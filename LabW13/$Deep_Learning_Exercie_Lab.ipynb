{
  "cells": [
    {
      "cell_type": "markdown",
      "metadata": {
        "id": "F6IwWspgpR36"
      },
      "source": [
        "# Keras Sequential Model Lab Exercise\n",
        "## Lab Objectives:\n",
        "### Upon completion of this lab, students will be able to:\n",
        "* Understand the concept and structure of Keras Sequential models.\n",
        "* Load and preprocess data for neural network training.\n",
        "* Build, compile, and train simple feedforward neural networks.\n",
        "* Evaluate the performance of a trained model.\n",
        "* Implement basic Convolutional Neural Networks (CNNs) using the Sequential API.\n",
        "* Make predictions using a trained model.\n",
        "\n"
      ]
    },
    {
      "cell_type": "markdown",
      "metadata": {
        "id": "QbRc-5GrqX_p"
      },
      "source": [
        "## Part 1: Introduction to Keras Sequential Model\n",
        "The Keras Sequential model is a linear stack of layers. It's the simplest type of model and is suitable for simple feedforward networks (MLPs), as well as basic Convolutional Neural Networks (CNNs) and Recurrent Neural Networks (RNNs).\n",
        "\n",
        "### Task 1.1: Import Keras and Define a Simple Sequential Model\n",
        "Just for demonstration, let's start by defining a very simple model with just one input layer and one output layer.\n"
      ]
    },
    {
      "cell_type": "code",
      "execution_count": 2,
      "metadata": {
        "colab": {
          "base_uri": "https://localhost:8080/",
          "height": 219
        },
        "id": "bw7p4Lowpjoa",
        "outputId": "23bffc61-dd46-45b9-9f47-b63f5aac6831"
      },
      "outputs": [
        {
          "data": {
            "text/html": [
              "<pre style=\"white-space:pre;overflow-x:auto;line-height:normal;font-family:Menlo,'DejaVu Sans Mono',consolas,'Courier New',monospace\"><span style=\"font-weight: bold\">Model: \"sequential_1\"</span>\n",
              "</pre>\n"
            ],
            "text/plain": [
              "\u001b[1mModel: \"sequential_1\"\u001b[0m\n"
            ]
          },
          "metadata": {},
          "output_type": "display_data"
        },
        {
          "data": {
            "text/html": [
              "<pre style=\"white-space:pre;overflow-x:auto;line-height:normal;font-family:Menlo,'DejaVu Sans Mono',consolas,'Courier New',monospace\">┏━━━━━━━━━━━━━━━━━━━━━━━━━━━━━━━━━┳━━━━━━━━━━━━━━━━━━━━━━━━┳━━━━━━━━━━━━━━━┓\n",
              "┃<span style=\"font-weight: bold\"> Layer (type)                    </span>┃<span style=\"font-weight: bold\"> Output Shape           </span>┃<span style=\"font-weight: bold\">       Param # </span>┃\n",
              "┡━━━━━━━━━━━━━━━━━━━━━━━━━━━━━━━━━╇━━━━━━━━━━━━━━━━━━━━━━━━╇━━━━━━━━━━━━━━━┩\n",
              "│ dense_1 (<span style=\"color: #0087ff; text-decoration-color: #0087ff\">Dense</span>)                 │ (<span style=\"color: #00d7ff; text-decoration-color: #00d7ff\">None</span>, <span style=\"color: #00af00; text-decoration-color: #00af00\">10</span>)             │         <span style=\"color: #00af00; text-decoration-color: #00af00\">7,850</span> │\n",
              "└─────────────────────────────────┴────────────────────────┴───────────────┘\n",
              "</pre>\n"
            ],
            "text/plain": [
              "┏━━━━━━━━━━━━━━━━━━━━━━━━━━━━━━━━━┳━━━━━━━━━━━━━━━━━━━━━━━━┳━━━━━━━━━━━━━━━┓\n",
              "┃\u001b[1m \u001b[0m\u001b[1mLayer (type)                   \u001b[0m\u001b[1m \u001b[0m┃\u001b[1m \u001b[0m\u001b[1mOutput Shape          \u001b[0m\u001b[1m \u001b[0m┃\u001b[1m \u001b[0m\u001b[1m      Param #\u001b[0m\u001b[1m \u001b[0m┃\n",
              "┡━━━━━━━━━━━━━━━━━━━━━━━━━━━━━━━━━╇━━━━━━━━━━━━━━━━━━━━━━━━╇━━━━━━━━━━━━━━━┩\n",
              "│ dense_1 (\u001b[38;5;33mDense\u001b[0m)                 │ (\u001b[38;5;45mNone\u001b[0m, \u001b[38;5;34m10\u001b[0m)             │         \u001b[38;5;34m7,850\u001b[0m │\n",
              "└─────────────────────────────────┴────────────────────────┴───────────────┘\n"
            ]
          },
          "metadata": {},
          "output_type": "display_data"
        },
        {
          "data": {
            "text/html": [
              "<pre style=\"white-space:pre;overflow-x:auto;line-height:normal;font-family:Menlo,'DejaVu Sans Mono',consolas,'Courier New',monospace\"><span style=\"font-weight: bold\"> Total params: </span><span style=\"color: #00af00; text-decoration-color: #00af00\">7,850</span> (30.66 KB)\n",
              "</pre>\n"
            ],
            "text/plain": [
              "\u001b[1m Total params: \u001b[0m\u001b[38;5;34m7,850\u001b[0m (30.66 KB)\n"
            ]
          },
          "metadata": {},
          "output_type": "display_data"
        },
        {
          "data": {
            "text/html": [
              "<pre style=\"white-space:pre;overflow-x:auto;line-height:normal;font-family:Menlo,'DejaVu Sans Mono',consolas,'Courier New',monospace\"><span style=\"font-weight: bold\"> Trainable params: </span><span style=\"color: #00af00; text-decoration-color: #00af00\">7,850</span> (30.66 KB)\n",
              "</pre>\n"
            ],
            "text/plain": [
              "\u001b[1m Trainable params: \u001b[0m\u001b[38;5;34m7,850\u001b[0m (30.66 KB)\n"
            ]
          },
          "metadata": {},
          "output_type": "display_data"
        },
        {
          "data": {
            "text/html": [
              "<pre style=\"white-space:pre;overflow-x:auto;line-height:normal;font-family:Menlo,'DejaVu Sans Mono',consolas,'Courier New',monospace\"><span style=\"font-weight: bold\"> Non-trainable params: </span><span style=\"color: #00af00; text-decoration-color: #00af00\">0</span> (0.00 B)\n",
              "</pre>\n"
            ],
            "text/plain": [
              "\u001b[1m Non-trainable params: \u001b[0m\u001b[38;5;34m0\u001b[0m (0.00 B)\n"
            ]
          },
          "metadata": {},
          "output_type": "display_data"
        }
      ],
      "source": [
        "import numpy as np\n",
        "import tensorflow as tf\n",
        "from tensorflow import keras\n",
        "from tensorflow.keras import layers\n",
        "\n",
        "# Create a Sequential model\n",
        "model = keras.Sequential(\n",
        "[\n",
        "# Input layer (implicitly defined by the first layer's input_shape)\n",
        "# This Dense layer will have 10 units and expects input with 784 features.\n",
        "layers.Dense(units=10, activation=\"relu\", input_shape=(784,))\n",
        "]\n",
        ")\n",
        "\n",
        "# Print a summary of the model\n",
        "model.summary()\n"
      ]
    },
    {
      "cell_type": "markdown",
      "metadata": {
        "id": "f-8B6dOZp22x"
      },
      "source": [
        "#### Explanation:\n",
        "* tf.keras.Sequential: This is the class we use to create a sequential model.\n",
        "* layers.Dense: This represents a fully connected neural network layer.\n",
        "    * units: The number of neurons in this layer.\n",
        "    * activation: The activation function to use (e.g., 'relu', 'sigmoid', 'softmax').\n",
        "    * input_shape: This argument is crucial for the first layer in a Sequential model. It tells Keras the shape of the input data it expects. For subsequent layers, Keras automatically infers the input shape from the previous layer's output.\n",
        "\n"
      ]
    },
    {
      "cell_type": "markdown",
      "metadata": {
        "id": "rORaxD_FqQrl"
      },
      "source": [
        "## Part 2: Data Preparation (MNIST Dataset)\n",
        "We will use the MNIST dataset, which consists of images of handwritten digits (0-9). Each image is 28x28 pixels.\n",
        "\n",
        "### Task 2.1: Load and Preprocess the MNIST Dataset\n"
      ]
    },
    {
      "cell_type": "code",
      "execution_count": null,
      "metadata": {
        "colab": {
          "base_uri": "https://localhost:8080/"
        },
        "id": "m4pMZL9CqCZs",
        "outputId": "592bc52c-74db-4700-c355-198e79177e31"
      },
      "outputs": [
        {
          "name": "stdout",
          "output_type": "stream",
          "text": [
            "Downloading data from https://storage.googleapis.com/tensorflow/tf-keras-datasets/mnist.npz\n",
            "\u001b[1m11490434/11490434\u001b[0m \u001b[32m━━━━━━━━━━━━━━━━━━━━\u001b[0m\u001b[37m\u001b[0m \u001b[1m0s\u001b[0m 0us/step\n",
            "Original training images shape: (60000, 28, 28)\n",
            "Original testing images shape: (10000, 28, 28)\n",
            "Flattened training images shape: (60000, 784)\n",
            "Flattened testing images shape: (10000, 784)\n",
            "One-hot encoded training labels shape: (60000, 10)\n",
            "First 5 original training labels: [5 0 4 1 9]\n",
            "First 5 one-hot encoded training labels:\n",
            "[[0. 0. 0. 0. 0. 1. 0. 0. 0. 0.]\n",
            " [1. 0. 0. 0. 0. 0. 0. 0. 0. 0.]\n",
            " [0. 0. 0. 0. 1. 0. 0. 0. 0. 0.]\n",
            " [0. 1. 0. 0. 0. 0. 0. 0. 0. 0.]\n",
            " [0. 0. 0. 0. 0. 0. 0. 0. 0. 1.]])\n"
          ]
        }
      ],
      "source": [
        "# Load the MNIST dataset\n",
        "(train_images, train_labels), (test_images, test_labels) = (\n",
        " keras.datasets.mnist.load_data()\n",
        ")\n",
        "\n",
        "print(f\"Original training images shape: {train_images.shape}\")\n",
        "print(f\"Original testing images shape: {test_images.shape}\")\n",
        "\n",
        "# Normalize pixel values to be between 0 and 1\n",
        "# Original pixel values are between 0 and 255\n",
        "train_images = train_images / 255.0\n",
        "test_images = test_images / 255.0\n",
        "\n",
        "# Reshape images for a simple feedforward network\n",
        "# Each 28x28 image needs to be flattened into a 784-element vector\n",
        "# train_images_flat = train_images.reshape(-1, 28 * 28)\n",
        "# test_images_flat = test_images.reshape(-1, 28 * 28)\n",
        "\n",
        "print(f\"Flattened training images shape: {train_images_flat.shape}\")\n",
        "print(f\"Flattened testing images shape: {test_images_flat.shape}\")\n",
        "\n",
        "# One-hot encode the labels\n",
        "# For example, the digit '5' will become [0, 0, 0, 0, 0, 1, 0, 0, 0, 0]\n",
        "train_labels_one_hot = keras.utils.to_categorical(train_labels, num_classes=10)\n",
        "test_labels_one_hot = keras.utils.to_categorical(test_labels, num_classes=10)\n",
        "\n",
        "print(f\"One-hot encoded training labels shape: {train_labels_one_hot.shape}\")\n",
        "print(f\"First 5 original training labels: {train_labels[:5]}\")\n",
        "print(f\"First 5 one-hot encoded training labels:\\n{train_labels_one_hot[:5]})\")\n"
      ]
    },
    {
      "cell_type": "markdown",
      "metadata": {
        "id": "bzQySRPBqNap"
      },
      "source": [
        "### Explanation:\n",
        "* keras.datasets.mnist.load_data(): Conveniently loads the MNIST dataset.\n",
        "* Normalization: Dividing by 255.0 scales the pixel values from [0, 255] to [0, 1]. This helps neural networks learn more effectively.\n",
        "* Reshaping (.reshape(-1, 28 * 28)):\n",
        "    * -1 means \"infer the dimension based on the total number of elements and the other dimension.\" So, it will automatically calculate the number of samples.\n",
        "    * 28 * 28 = 784: Each 28x28 image is flattened into a single vector of 784 pixels. This is necessary for Dense layers, which expect 1D input vectors.\n",
        "* One-hot Encoding (keras.utils.to_categorical):\n",
        "    * Our labels are single digits (0-9). For multi-class classification, especially with softmax activation in the output layer and categorical_crossentropy loss, we need to convert these integer labels into a binary vector format.\n",
        "    * num_classes=10: Since there are 10 possible digits (0-9).\n"
      ]
    },
    {
      "cell_type": "markdown",
      "metadata": {
        "id": "P9_dUtciqk2q"
      },
      "source": [
        "## Part 3: Building and Training a Simple Classifier\n",
        "Now, let's build a simple multi-layer perceptron (MLP) using the Sequential API to classify the MNIST digits.\n",
        "### Task 3.1: Define the Model Architecture\n"
      ]
    },
    {
      "cell_type": "code",
      "execution_count": 19,
      "metadata": {
        "colab": {
          "base_uri": "https://localhost:8080/",
          "height": 284
        },
        "id": "aQWse5gyqouR",
        "outputId": "c153ea29-bc20-4653-e68d-5f0c847a1d34"
      },
      "outputs": [
        {
          "name": "stderr",
          "output_type": "stream",
          "text": [
            "/usr/local/lib/python3.11/dist-packages/keras/src/layers/reshaping/flatten.py:37: UserWarning: Do not pass an `input_shape`/`input_dim` argument to a layer. When using Sequential models, prefer using an `Input(shape)` object as the first layer in the model instead.\n",
            "  super().__init__(**kwargs)\n"
          ]
        },
        {
          "data": {
            "text/html": [
              "<pre style=\"white-space:pre;overflow-x:auto;line-height:normal;font-family:Menlo,'DejaVu Sans Mono',consolas,'Courier New',monospace\"><span style=\"font-weight: bold\">Model: \"sequential_3\"</span>\n",
              "</pre>\n"
            ],
            "text/plain": [
              "\u001b[1mModel: \"sequential_3\"\u001b[0m\n"
            ]
          },
          "metadata": {},
          "output_type": "display_data"
        },
        {
          "data": {
            "text/html": [
              "<pre style=\"white-space:pre;overflow-x:auto;line-height:normal;font-family:Menlo,'DejaVu Sans Mono',consolas,'Courier New',monospace\">┏━━━━━━━━━━━━━━━━━━━━━━━━━━━━━━━━━┳━━━━━━━━━━━━━━━━━━━━━━━━┳━━━━━━━━━━━━━━━┓\n",
              "┃<span style=\"font-weight: bold\"> Layer (type)                    </span>┃<span style=\"font-weight: bold\"> Output Shape           </span>┃<span style=\"font-weight: bold\">       Param # </span>┃\n",
              "┡━━━━━━━━━━━━━━━━━━━━━━━━━━━━━━━━━╇━━━━━━━━━━━━━━━━━━━━━━━━╇━━━━━━━━━━━━━━━┩\n",
              "│ flatten_2 (<span style=\"color: #0087ff; text-decoration-color: #0087ff\">Flatten</span>)             │ (<span style=\"color: #00d7ff; text-decoration-color: #00d7ff\">None</span>, <span style=\"color: #00af00; text-decoration-color: #00af00\">784</span>)            │             <span style=\"color: #00af00; text-decoration-color: #00af00\">0</span> │\n",
              "├─────────────────────────────────┼────────────────────────┼───────────────┤\n",
              "│ dense_6 (<span style=\"color: #0087ff; text-decoration-color: #0087ff\">Dense</span>)                 │ (<span style=\"color: #00d7ff; text-decoration-color: #00d7ff\">None</span>, <span style=\"color: #00af00; text-decoration-color: #00af00\">128</span>)            │       <span style=\"color: #00af00; text-decoration-color: #00af00\">100,480</span> │\n",
              "├─────────────────────────────────┼────────────────────────┼───────────────┤\n",
              "│ dense_7 (<span style=\"color: #0087ff; text-decoration-color: #0087ff\">Dense</span>)                 │ (<span style=\"color: #00d7ff; text-decoration-color: #00d7ff\">None</span>, <span style=\"color: #00af00; text-decoration-color: #00af00\">10</span>)             │         <span style=\"color: #00af00; text-decoration-color: #00af00\">1,290</span> │\n",
              "└─────────────────────────────────┴────────────────────────┴───────────────┘\n",
              "</pre>\n"
            ],
            "text/plain": [
              "┏━━━━━━━━━━━━━━━━━━━━━━━━━━━━━━━━━┳━━━━━━━━━━━━━━━━━━━━━━━━┳━━━━━━━━━━━━━━━┓\n",
              "┃\u001b[1m \u001b[0m\u001b[1mLayer (type)                   \u001b[0m\u001b[1m \u001b[0m┃\u001b[1m \u001b[0m\u001b[1mOutput Shape          \u001b[0m\u001b[1m \u001b[0m┃\u001b[1m \u001b[0m\u001b[1m      Param #\u001b[0m\u001b[1m \u001b[0m┃\n",
              "┡━━━━━━━━━━━━━━━━━━━━━━━━━━━━━━━━━╇━━━━━━━━━━━━━━━━━━━━━━━━╇━━━━━━━━━━━━━━━┩\n",
              "│ flatten_2 (\u001b[38;5;33mFlatten\u001b[0m)             │ (\u001b[38;5;45mNone\u001b[0m, \u001b[38;5;34m784\u001b[0m)            │             \u001b[38;5;34m0\u001b[0m │\n",
              "├─────────────────────────────────┼────────────────────────┼───────────────┤\n",
              "│ dense_6 (\u001b[38;5;33mDense\u001b[0m)                 │ (\u001b[38;5;45mNone\u001b[0m, \u001b[38;5;34m128\u001b[0m)            │       \u001b[38;5;34m100,480\u001b[0m │\n",
              "├─────────────────────────────────┼────────────────────────┼───────────────┤\n",
              "│ dense_7 (\u001b[38;5;33mDense\u001b[0m)                 │ (\u001b[38;5;45mNone\u001b[0m, \u001b[38;5;34m10\u001b[0m)             │         \u001b[38;5;34m1,290\u001b[0m │\n",
              "└─────────────────────────────────┴────────────────────────┴───────────────┘\n"
            ]
          },
          "metadata": {},
          "output_type": "display_data"
        },
        {
          "data": {
            "text/html": [
              "<pre style=\"white-space:pre;overflow-x:auto;line-height:normal;font-family:Menlo,'DejaVu Sans Mono',consolas,'Courier New',monospace\"><span style=\"font-weight: bold\"> Total params: </span><span style=\"color: #00af00; text-decoration-color: #00af00\">101,770</span> (397.54 KB)\n",
              "</pre>\n"
            ],
            "text/plain": [
              "\u001b[1m Total params: \u001b[0m\u001b[38;5;34m101,770\u001b[0m (397.54 KB)\n"
            ]
          },
          "metadata": {},
          "output_type": "display_data"
        },
        {
          "data": {
            "text/html": [
              "<pre style=\"white-space:pre;overflow-x:auto;line-height:normal;font-family:Menlo,'DejaVu Sans Mono',consolas,'Courier New',monospace\"><span style=\"font-weight: bold\"> Trainable params: </span><span style=\"color: #00af00; text-decoration-color: #00af00\">101,770</span> (397.54 KB)\n",
              "</pre>\n"
            ],
            "text/plain": [
              "\u001b[1m Trainable params: \u001b[0m\u001b[38;5;34m101,770\u001b[0m (397.54 KB)\n"
            ]
          },
          "metadata": {},
          "output_type": "display_data"
        },
        {
          "data": {
            "text/html": [
              "<pre style=\"white-space:pre;overflow-x:auto;line-height:normal;font-family:Menlo,'DejaVu Sans Mono',consolas,'Courier New',monospace\"><span style=\"font-weight: bold\"> Non-trainable params: </span><span style=\"color: #00af00; text-decoration-color: #00af00\">0</span> (0.00 B)\n",
              "</pre>\n"
            ],
            "text/plain": [
              "\u001b[1m Non-trainable params: \u001b[0m\u001b[38;5;34m0\u001b[0m (0.00 B)\n"
            ]
          },
          "metadata": {},
          "output_type": "display_data"
        }
      ],
      "source": [
        "# Define the Sequential model\n",
        "model = keras.Sequential(\n",
        "[\n",
        "# Flatten layer to convert 28x28 images into a 784-element vector\n",
        "# This is an alternative to manually reshaping the data beforehand.\n",
        "layers.Flatten(input_shape=(28, 28)),\n",
        "# First hidden layer with 128 neurons and ReLU activation\n",
        "layers.Dense(units=128, activation=\"relu\"),\n",
        "# Output layer with 10 neurons (for 10 classes) and Softmax activation\n",
        "# Softmax ensures the output probabilities sum to 1.\n",
        "layers.Dense(units=10, activation=\"softmax\"), ]\n",
        ")\n",
        "# Print the model summary\n",
        "model.summary()\n"
      ]
    },
    {
      "cell_type": "markdown",
      "metadata": {
        "id": "0fuhYQ23q6KB"
      },
      "source": [
        "## Explanation:\n",
        "* layers.Flatten(input_shape=(28, 28)): This layer automatically flattens the input images from 2D (28x28) to 1D (784). If you used train_images_flat from Part 2, you wouldn't need this layer. However, it's good practice to include it if your input data is still in its original image shape.\n",
        "* layers.Dense(units=128, activation='relu'): A hidden layer with 128 neurons. ReLU (Rectified Linear Unit) is a common activation function that introduces non-linearity.\n",
        "* layers.Dense(units=10, activation='softmax'): The output layer.\n",
        "    * units=10: One neuron for each of the 10 digit classes.\n",
        "    * activation='softmax': This activation function is used for multi-class classification problems. It converts the raw outputs (logits) into probabilities that sum up to 1 across all classes.\n"
      ]
    },
    {
      "cell_type": "markdown",
      "metadata": {
        "id": "Jp3L4Q8FrAZP"
      },
      "source": [
        "## Task 3.2: Compile the Model\n",
        "Compiling the model configures its learning process. You specify the optimizer, loss function, and metrics.\n"
      ]
    },
    {
      "cell_type": "code",
      "execution_count": 20,
      "metadata": {
        "colab": {
          "base_uri": "https://localhost:8080/"
        },
        "id": "oiGb7NlLrCgM",
        "outputId": "7d11cb4c-4d63-4cf0-f632-d5ae36edcfc3"
      },
      "outputs": [
        {
          "name": "stdout",
          "output_type": "stream",
          "text": [
            "Model compiled successfully!\n"
          ]
        }
      ],
      "source": [
        "# setting learning rate\n",
        "# Choose an optimizer and set the learning rate\n",
        "# Example with Adam optimizer\n",
        "optimizer = keras.optimizers.Adam(learning_rate=0.001)\n",
        "\n",
        "# Compile the model\n",
        "model.compile(\n",
        "optimizer=optimizer, # Adam is a popular optimization algorithm\n",
        "# optimizer='adam', # You can also use 'adam\n",
        "loss=\"categorical_crossentropy\", # Appropriate loss for multi-class classification with one-hot encoded labels\n",
        "metrics=[\"accuracy\"], # Metric to monitor during training\n",
        ")\n",
        "\n",
        "print(\"Model compiled successfully!\")\n"
      ]
    },
    {
      "cell_type": "markdown",
      "metadata": {
        "id": "lCWbi1A5rNYH"
      },
      "source": [
        "## Explanation:\n",
        "* optimizer='adam': The optimizer determines how the model's weights are updated during training to minimize the loss. Adam is a good general-purpose optimizer. Other options include 'sgd', 'rmsprop', etc.\n",
        "* loss='categorical_crossentropy': This is the standard loss function for multi-class classification problems where the labels are one-hot encoded. If your labels were integers (not one-hot encoded), you would use sparse_categorical_crossentropy.\n",
        "* metrics=['accuracy']: This is a list of metrics to be evaluated by the model during training and testing. 'accuracy' is a common choice for classification tasks.\n",
        "\n",
        "\n"
      ]
    },
    {
      "cell_type": "markdown",
      "metadata": {
        "id": "FWVLuRYBrU7B"
      },
      "source": [
        "## Task 3.3: Train the Model\n",
        "Training involves feeding the model with training data and allowing it to learn the patterns.\n"
      ]
    },
    {
      "cell_type": "code",
      "execution_count": 23,
      "metadata": {
        "colab": {
          "base_uri": "https://localhost:8080/"
        },
        "id": "xstdUiK5rWz4",
        "outputId": "7e51f6ab-7877-4d8d-8ce5-f3fc38542b98"
      },
      "outputs": [
        {
          "name": "stdout",
          "output_type": "stream",
          "text": [
            "Epoch 1/15\n",
            "\u001b[1m1080/1080\u001b[0m \u001b[32m━━━━━━━━━━━━━━━━━━━━\u001b[0m\u001b[37m\u001b[0m \u001b[1m4s\u001b[0m 3ms/step - accuracy: 0.9994 - loss: 0.0032 - val_accuracy: 0.9822 - val_loss: 0.0826\n",
            "Epoch 2/15\n",
            "\u001b[1m1080/1080\u001b[0m \u001b[32m━━━━━━━━━━━━━━━━━━━━\u001b[0m\u001b[37m\u001b[0m \u001b[1m5s\u001b[0m 3ms/step - accuracy: 0.9997 - loss: 0.0020 - val_accuracy: 0.9792 - val_loss: 0.0940\n",
            "Epoch 3/15\n",
            "\u001b[1m1080/1080\u001b[0m \u001b[32m━━━━━━━━━━━━━━━━━━━━\u001b[0m\u001b[37m\u001b[0m \u001b[1m3s\u001b[0m 3ms/step - accuracy: 0.9979 - loss: 0.0057 - val_accuracy: 0.9810 - val_loss: 0.0895\n",
            "Epoch 4/15\n",
            "\u001b[1m1080/1080\u001b[0m \u001b[32m━━━━━━━━━━━━━━━━━━━━\u001b[0m\u001b[37m\u001b[0m \u001b[1m3s\u001b[0m 3ms/step - accuracy: 0.9991 - loss: 0.0033 - val_accuracy: 0.9795 - val_loss: 0.0965\n",
            "Epoch 5/15\n",
            "\u001b[1m1080/1080\u001b[0m \u001b[32m━━━━━━━━━━━━━━━━━━━━\u001b[0m\u001b[37m\u001b[0m \u001b[1m3s\u001b[0m 3ms/step - accuracy: 0.9991 - loss: 0.0037 - val_accuracy: 0.9803 - val_loss: 0.1044\n",
            "Epoch 6/15\n",
            "\u001b[1m1080/1080\u001b[0m \u001b[32m━━━━━━━━━━━━━━━━━━━━\u001b[0m\u001b[37m\u001b[0m \u001b[1m3s\u001b[0m 3ms/step - accuracy: 0.9991 - loss: 0.0035 - val_accuracy: 0.9818 - val_loss: 0.0918\n",
            "Epoch 7/15\n",
            "\u001b[1m1080/1080\u001b[0m \u001b[32m━━━━━━━━━━━━━━━━━━━━\u001b[0m\u001b[37m\u001b[0m \u001b[1m3s\u001b[0m 3ms/step - accuracy: 0.9998 - loss: 0.0013 - val_accuracy: 0.9790 - val_loss: 0.1152\n",
            "Epoch 8/15\n",
            "\u001b[1m1080/1080\u001b[0m \u001b[32m━━━━━━━━━━━━━━━━━━━━\u001b[0m\u001b[37m\u001b[0m \u001b[1m3s\u001b[0m 3ms/step - accuracy: 0.9982 - loss: 0.0057 - val_accuracy: 0.9817 - val_loss: 0.1107\n",
            "Epoch 9/15\n",
            "\u001b[1m1080/1080\u001b[0m \u001b[32m━━━━━━━━━━━━━━━━━━━━\u001b[0m\u001b[37m\u001b[0m \u001b[1m3s\u001b[0m 3ms/step - accuracy: 0.9992 - loss: 0.0028 - val_accuracy: 0.9792 - val_loss: 0.1062\n",
            "Epoch 10/15\n",
            "\u001b[1m1080/1080\u001b[0m \u001b[32m━━━━━━━━━━━━━━━━━━━━\u001b[0m\u001b[37m\u001b[0m \u001b[1m5s\u001b[0m 3ms/step - accuracy: 1.0000 - loss: 6.2184e-04 - val_accuracy: 0.9825 - val_loss: 0.0981\n",
            "Epoch 11/15\n",
            "\u001b[1m1080/1080\u001b[0m \u001b[32m━━━━━━━━━━━━━━━━━━━━\u001b[0m\u001b[37m\u001b[0m \u001b[1m3s\u001b[0m 3ms/step - accuracy: 0.9997 - loss: 0.0013 - val_accuracy: 0.9793 - val_loss: 0.1186\n",
            "Epoch 12/15\n",
            "\u001b[1m1080/1080\u001b[0m \u001b[32m━━━━━━━━━━━━━━━━━━━━\u001b[0m\u001b[37m\u001b[0m \u001b[1m3s\u001b[0m 3ms/step - accuracy: 0.9987 - loss: 0.0042 - val_accuracy: 0.9788 - val_loss: 0.1320\n",
            "Epoch 13/15\n",
            "\u001b[1m1080/1080\u001b[0m \u001b[32m━━━━━━━━━━━━━━━━━━━━\u001b[0m\u001b[37m\u001b[0m \u001b[1m5s\u001b[0m 3ms/step - accuracy: 0.9994 - loss: 0.0020 - val_accuracy: 0.9810 - val_loss: 0.1211\n",
            "Epoch 14/15\n",
            "\u001b[1m1080/1080\u001b[0m \u001b[32m━━━━━━━━━━━━━━━━━━━━\u001b[0m\u001b[37m\u001b[0m \u001b[1m5s\u001b[0m 3ms/step - accuracy: 0.9989 - loss: 0.0031 - val_accuracy: 0.9828 - val_loss: 0.1089\n",
            "Epoch 15/15\n",
            "\u001b[1m1080/1080\u001b[0m \u001b[32m━━━━━━━━━━━━━━━━━━━━\u001b[0m\u001b[37m\u001b[0m \u001b[1m3s\u001b[0m 3ms/step - accuracy: 0.9993 - loss: 0.0019 - val_accuracy: 0.9793 - val_loss: 0.1187\n",
            "\n",
            "Model training complete!\n"
          ]
        }
      ],
      "source": [
        "# Train the model\n",
        "# We use the original 28x28 images because we added a Flatten layer.\n",
        "history = model.fit(\n",
        "train_images,\n",
        "train_labels_one_hot,\n",
        "epochs=15, # 15 epochs are going to be executed\n",
        "batch_size=50, # Number of samples per gradient update\n",
        "validation_split=0.1, # Use 10% of training data for validation during training,\n",
        ")\n",
        "\n",
        "print(\"\\nModel training complete!\")\n",
        "\n"
      ]
    },
    {
      "cell_type": "markdown",
      "metadata": {
        "id": "1sO-5afXxouR"
      },
      "source": [
        "## Explanation:\n",
        "* model.fit(): This function trains the model.\n",
        "    * train_images: The training input data.\n",
        "    * train_labels_one_hot: The corresponding target labels (one-hot encoded).\n",
        "    * epochs: An epoch is one complete pass through the entire training dataset. More epochs generally lead to better learning but can also lead to overfitting.\n",
        "    * batch_size: The number of samples processed before the model's weights are updated. Smaller batch sizes can lead to more noisy updates but potentially better generalization. Larger batch sizes are faster but might get stuck in local minima.\n",
        "    * validation_split: A fraction of the training data to be set aside as validation data. The model will not be trained on this data, and its performance on this data will be evaluated at the end of each epoch. This helps in monitoring for overfitting.\n",
        "\n"
      ]
    },
    {
      "cell_type": "markdown",
      "metadata": {
        "id": "GsxtKV-clHwc"
      },
      "source": [
        "## Task 3.4: Plotting Accuracy over epocs\n"
      ]
    },
    {
      "cell_type": "code",
      "execution_count": 22,
      "metadata": {
        "colab": {
          "base_uri": "https://localhost:8080/",
          "height": 564
        },
        "id": "A4CIHANnlGCZ",
        "outputId": "bce3e098-c07b-43a4-b4c4-d16e083837bb"
      },
      "outputs": [
        {
          "data": {
            "image/png": "[encoded data removed]",
            "text/plain": [
              "<Figure size 1200x600 with 1 Axes>"
            ]
          },
          "metadata": {},
          "output_type": "display_data"
        }
      ],
      "source": [
        "import matplotlib.pyplot as plt\n",
        "\n",
        "# Evaluate the model on the test data to get the test accuracy\n",
        "test_loss, test_accuracy = model.evaluate(test_images, test_labels_one_hot, verbose=0) # verbose=0 to avoid printing progress during evaluation\n",
        "\n",
        "# Assuming 'history' is the object returned by model.fit()\n",
        "# Plotting Accuracy\n",
        "plt.figure(figsize=(12, 6))\n",
        "plt.plot(history.history['accuracy'], label='Training Accuracy')\n",
        "plt.plot(history.history['val_accuracy'], label='Validation Accuracy')\n",
        "plt.axhline(y=test_accuracy, color='r', linestyle='--', label=f'Test Accuracy ({test_accuracy:.4f})') # Plotting test accuracy\n",
        "plt.title('Training, Validation, and Test Accuracy over Epochs')\n",
        "plt.xlabel('Epoch')\n",
        "plt.ylabel('Accuracy')\n",
        "plt.legend()\n",
        "plt.grid(True)\n",
        "plt.show()"
      ]
    },
    {
      "cell_type": "markdown",
      "metadata": {
        "id": "gzL6eauoxtci"
      },
      "source": [
        "## Part 4: Evaluation and Prediction\n",
        "After training, it's crucial to evaluate the model's performance on unseen data (the test set) and use it to make predictions.\n",
        "### Task 4.1: Evaluate the Model on Test Data"
      ]
    },
    {
      "cell_type": "code",
      "execution_count": 24,
      "metadata": {
        "colab": {
          "base_uri": "https://localhost:8080/"
        },
        "id": "kx2G3m5AxyVQ",
        "outputId": "0c7abff9-3a23-479b-fa4f-e7b0dc0b8dcf"
      },
      "outputs": [
        {
          "name": "stdout",
          "output_type": "stream",
          "text": [
            "313/313 - 1s - 2ms/step - accuracy: 0.9785 - loss: 0.1178\n",
            "Test Accuracy: 0.9785\n"
          ]
        }
      ],
      "source": [
        "# Evaluate the model on the test data\n",
        "test_loss, test_accuracy = model.evaluate(test_images, test_labels_one_hot, verbose=2)\n",
        "\n",
        "print(f\"Test Accuracy: {test_accuracy:.4f}\")\n"
      ]
    },
    {
      "cell_type": "markdown",
      "metadata": {
        "id": "28e52wmfx4_D"
      },
      "source": [
        "## Explanation:\n",
        "* model.evaluate(): This function calculates the loss and metrics (like accuracy) for the given data.\n",
        "    * test_images: The input test data.\n",
        "    * test_labels_one_hot: The true labels for the test data.\n",
        "    * verbose=2: Prints one line per epoch.\n"
      ]
    },
    {
      "cell_type": "markdown",
      "metadata": {
        "id": "v5ZCbRvnyIUZ"
      },
      "source": [
        "## Task 4.2: Make Predictions\n",
        "##### Make predictions on the test images\n",
        "##### predictions = model.predict(test_images)"
      ]
    },
    {
      "cell_type": "code",
      "execution_count": 26,
      "metadata": {
        "colab": {
          "base_uri": "https://localhost:8080/",
          "height": 446
        },
        "id": "MrXrGEwSyW7S",
        "outputId": "ceb51f66-70e3-49d6-dae0-96632df624f5"
      },
      "outputs": [
        {
          "name": "stdout",
          "output_type": "stream",
          "text": [
            "\u001b[1m313/313\u001b[0m \u001b[32m━━━━━━━━━━━━━━━━━━━━\u001b[0m\u001b[37m\u001b[0m \u001b[1m1s\u001b[0m 2ms/step\n",
            "\n",
            "Probabilities for the first test image:\n",
            "[5.6722349e-17 1.8088044e-16 3.1998948e-12 1.1025282e-09 1.4292048e-27\n",
            " 4.2636016e-17 2.4544369e-27 1.0000000e+00 1.4402066e-14 2.9427071e-16]\n",
            "Predicted class for the first test image: 7\n",
            "True class for the first test image: 7\n"
          ]
        },
        {
          "data": {
            "image/png": "[encoded data removed]",
            "text/plain": [
              "<Figure size 600x300 with 2 Axes>"
            ]
          },
          "metadata": {},
          "output_type": "display_data"
        }
      ],
      "source": [
        "# Make predictions on the test images\n",
        "predictions = model.predict(test_images)\n",
        "\n",
        "# The output of predict is a probability distribution for each image\n",
        "# For example, predictions[0] is an array of 10 probabilities for first test image.\n",
        "print(f\"\\nProbabilities for the first test image:\\n{predictions[0]}\")\n",
        "\n",
        "# To get the predicted class, we take the index with the highest probability\n",
        "predicted_class = np.argmax(predictions[0])\n",
        "true_class = test_labels[0]\n",
        "\n",
        "print(f\"Predicted class for the first test image: {predicted_class}\")\n",
        "print(f\"True class for the first test image: {true_class}\")\n",
        "\n",
        "# Let's visualize the first test image and its prediction\n",
        "import matplotlib.pyplot as plt\n",
        "\n",
        "plt.figure(figsize=(6, 3))\n",
        "plt.subplot(1, 2, 1)\n",
        "plt.imshow(test_images[0], cmap=plt.cm.binary)\n",
        "plt.title(f\"True: {true_class}\\nPredicted: {predicted_class}\")\n",
        "plt.axis(\"off\")\n",
        "\n",
        "plt.subplot(1, 2, 2)\n",
        "plt.bar(range(10), predictions[0])\n",
        "plt.xticks(range(10))\n",
        "plt.ylim([0, 1])\n",
        "plt.title(\"Prediction Probabilities\")\n",
        "plt.show()"
      ]
    },
    {
      "cell_type": "markdown",
      "metadata": {
        "id": "dTY28QZByzSw"
      },
      "source": [
        "## Explanation:\n",
        "* model.predict(): Generates output predictions for the input samples. The output is an array of probabilities for each class.\n",
        "* np.argmax(predictions[0]): Returns the index of the maximum value in the array, which corresponds to the predicted class with the highest probability.\n",
        "* matplotlib.pyplot: Used for visualizing the image and the prediction probabilities.\n"
      ]
    },
    {
      "cell_type": "markdown",
      "metadata": {
        "id": "3ug6RPgky4WO"
      },
      "source": [
        "# **Exercises and Challenges**\n",
        "\n",
        "# Exercise 1\n",
        "Now it's your turn to experiment!\n",
        "1. Experiment with Hyperparameters:\n",
        "    * Modify the number of epochs and batch_size in the model. How does this affect training time and accuracy?\n",
        "    * Try different optimizers (e.g., 'sgd', 'rmsprop') and observe their impact.\n",
        "    * Change the activation functions in the hidden layers (e.g., 'sigmoid', 'tanh').\n",
        "2. Modify Model Architecture (MLP):\n",
        "    * Add more Dense layers to the MLP model. What happens to the accuracy?\n",
        "    * Change the number of units in the hidden layers.\n",
        "3. Explore Different Datasets (Advanced):\n",
        "    * Load and classify the Fashion MNIST dataset (keras.datasets.fashion_mnist.load_data()). It's similar to MNIST but with clothing items instead of digits. You'll need to adapt the input shape and output classes.\n",
        "    * Research how to use a different dataset from tf.keras.datasets (e.g., cifar10).\n",
        "4. Plot Training History:\n",
        "    * The model.fit() method returns a history object. This object contains the loss and metric values for each epoch during training and validation.\n",
        "    * Plot the training and validation accuracy over epochs.\n",
        "    * Plot the training and validation loss over epochs.\n",
        "    * Example:\n"
      ]
    },
    {
      "cell_type": "markdown",
      "metadata": {
        "id": "Blrr4QmRosEj"
      },
      "source": [
        "# Deliverabled\n",
        "\n",
        "* 1- Endorsement of practicing with the code in the notebook (no need to submit anything).\n",
        "* 2- The completed ipynb file for Fashion MNIST dataset.\n",
        "* 3- The completed ipyng file for one of the other datasets of tf.keras.datasets of your choice (https://www.tensorflow.org/api_docs/python/tf/keras/datasets)"
      ]
    }
  ],
  "metadata": {
    "accelerator": "GPU",
    "colab": {
      "gpuType": "T4",
      "provenance": []
    },
    "kernelspec": {
      "display_name": "Python 3",
      "name": "python3"
    },
    "language_info": {
      "codemirror_mode": {
        "name": "ipython",
        "version": 3
      },
      "file_extension": ".py",
      "mimetype": "text/x-python",
      "name": "python",
      "nbconvert_exporter": "python",
      "pygments_lexer": "ipython3",
      "version": "3.12.1"
    }
  },
  "nbformat": 4,
  "nbformat_minor": 0
}
