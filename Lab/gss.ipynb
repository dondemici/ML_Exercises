{
 "cells": [
  {
   "cell_type": "code",
   "execution_count": 4,
   "id": "018db40a",
   "metadata": {},
   "outputs": [
    {
     "name": "stdout",
     "output_type": "stream",
     "text": [
      "Accuracy: 0.8115\n",
      "Classification Report:\n",
      "              precision    recall  f1-score   support\n",
      "\n",
      "           0       0.54      0.39      0.45        38\n",
      "           1       0.86      0.92      0.89       153\n",
      "\n",
      "    accuracy                           0.81       191\n",
      "   macro avg       0.70      0.65      0.67       191\n",
      "weighted avg       0.79      0.81      0.80       191\n",
      "\n",
      "Confusion Matrix:\n",
      "[[ 15  23]\n",
      " [ 13 140]]\n"
     ]
    }
   ],
   "source": [
    "import pandas as pd\n",
    "from sklearn.model_selection import train_test_split\n",
    "from sklearn.preprocessing import StandardScaler\n",
    "from sklearn.neighbors import KNeighborsClassifier\n",
    "from sklearn.metrics import classification_report, confusion_matrix, accuracy_score\n",
    "\n",
    "# Assume df is your dataframe\n",
    "df = pd.read_csv('gss.csv')\n",
    "# One-hot encode polviews feature\n",
    "df_onehot = pd.get_dummies(df['polviews'], prefix='polviews')\n",
    "\n",
    "# Combine features\n",
    "X = pd.concat([df[['age', 'educ']], df_onehot], axis=1)\n",
    "y = df['marijuana01']\n",
    "\n",
    "# Split\n",
    "X_train, X_test, y_train, y_test = train_test_split(X, y, test_size=0.2, random_state=42)\n",
    "\n",
    "# Scale numerical features (age, educ)\n",
    "scaler = StandardScaler()\n",
    "X_train[['age', 'educ']] = scaler.fit_transform(X_train[['age', 'educ']])\n",
    "X_test[['age', 'educ']] = scaler.transform(X_test[['age', 'educ']])\n",
    "\n",
    "# Train k-NN with k=5\n",
    "knn = KNeighborsClassifier(n_neighbors=5)\n",
    "knn.fit(X_train, y_train)\n",
    "\n",
    "# Predict and evaluate\n",
    "y_pred = knn.predict(X_test)\n",
    "\n",
    "print(f\"Accuracy: {accuracy_score(y_test, y_pred):.4f}\")\n",
    "print(\"Classification Report:\")\n",
    "print(classification_report(y_test, y_pred))\n",
    "\n",
    "print(\"Confusion Matrix:\")\n",
    "print(confusion_matrix(y_test, y_pred))\n"
   ]
  }
 ],
 "metadata": {
  "kernelspec": {
   "display_name": "Python 3",
   "language": "python",
   "name": "python3"
  },
  "language_info": {
   "codemirror_mode": {
    "name": "ipython",
    "version": 3
   },
   "file_extension": ".py",
   "mimetype": "text/x-python",
   "name": "python",
   "nbconvert_exporter": "python",
   "pygments_lexer": "ipython3",
   "version": "3.12.1"
  }
 },
 "nbformat": 4,
 "nbformat_minor": 5
}
