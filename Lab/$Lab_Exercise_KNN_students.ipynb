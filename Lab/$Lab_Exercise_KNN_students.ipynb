{
  "cells": [
    {
      "cell_type": "markdown",
      "metadata": {
        "id": "kgLwmcrKn-Vv"
      },
      "source": [
        "## Lab Exercise: Machine Learning for Social Sciences\n",
        "\n",
        "### Objective: Predicting Political Party Affiliation using the k-Nearest Neighbors (k-NN) Algorithm.\n",
        "\n",
        "#### 1. Learning Goals\n",
        "Welcome! In this lab, you will get hands-on experience with a real-world machine learning task. By the end of this exercise, you will be able to:\n",
        "\n",
        "•\tLoad and inspect a real-world dataset (the General Social Survey).\n",
        "\n",
        "•\tPerform essential data cleaning and preprocessing steps.\n",
        "\n",
        "•\tImplement and train a k-Nearest Neighbors (k-NN) classification model.\n",
        "\n",
        "•\tEvaluate the model's performance using key metrics like accuracy, precision, and recall.\n",
        "\n",
        "•\tInterpret a confusion matrix to understand model behavior in detail.\n",
        "\n",
        "#### 2. Background\n",
        "What is the k-Nearest Neighbors (k-NN) Algorithm? The k-NN algorithm is one of the simplest and most intuitive machine learning algorithms. It classifies a new data point based on the majority class of its 'k' closest neighbors in the feature space. For example, if we set k=5, the algorithm will look at the 5 closest data points (the \"neighbors\") to a new, unclassified point and assign it the same class that is most common among those 5 neighbors.\n",
        "\n",
        "The Dataset: General Social Survey (GSS) We will be using a dataset from the General Social Survey (GSS), one of the most influential social science studies in the United States. It contains a wide range of information on demographics, behaviors, and attitudes. Our goal is to predict a person's political party affiliation (PARTYID) based on other features like their age, education, and income.\n",
        "\n",
        "#### 3. Lab Procedure: Step-by-Step\n",
        "Follow the steps below. Each step includes an explanation and a code block for you to complete or run."
      ]
    },
    {
      "cell_type": "markdown",
      "metadata": {
        "id": "mMbHkZGzoFZJ"
      },
      "source": [
        "### Step 1: Setup and Library Imports\n",
        "\n",
        "First, we need to import the necessary Python libraries for data manipulation (pandas), machine learning (scikit-learn), and plotting (matplotlib, seaborn)."
      ]
    },
    {
      "cell_type": "code",
      "execution_count": 2,
      "metadata": {
        "id": "M8moZuQ6n8-z"
      },
      "outputs": [],
      "source": [
        "import pandas as pd\n",
        "import seaborn as sns\n",
        "import matplotlib.pyplot as plt\n",
        "from sklearn.preprocessing import StandardScaler\n",
        "from sklearn.model_selection import train_test_split\n",
        "from sklearn.neighbors import KNeighborsClassifier\n",
        "from sklearn.metrics import classification_report, confusion_matrix, accuracy_score"
      ]
    },
    {
      "cell_type": "markdown",
      "metadata": {
        "id": "xDh7OBZ7oJ96"
      },
      "source": [
        "### Step 2: Load and Explore the Data\n",
        "Now, load the gss.csv dataset and take a first look at its structure and contents."
      ]
    },
    {
      "cell_type": "code",
      "execution_count": 3,
      "metadata": {
        "id": "eSDgkwhyoQnZ"
      },
      "outputs": [
        {
          "name": "stdout",
          "output_type": "stream",
          "text": [
            "     index  age  educ     sex   race           polviews  polviews_num  \\\n",
            "950    995   38    16  female  white           moderate             4   \n",
            "951    996   44    14  female  white           moderate             4   \n",
            "952    997   39    19  female  white  extremely liberal             1   \n",
            "953    998   71    18    male  white            liberal             2   \n",
            "954    999   48    12    male  white           moderate             4   \n",
            "\n",
            "           marijuana  marijuana01  \n",
            "950  should be legal            1  \n",
            "951  should be legal            1  \n",
            "952  should be legal            1  \n",
            "953  should be legal            1  \n",
            "954  should be legal            1  \n",
            "index            int64\n",
            "age              int64\n",
            "educ             int64\n",
            "sex             object\n",
            "race            object\n",
            "polviews        object\n",
            "polviews_num     int64\n",
            "marijuana       object\n",
            "marijuana01      int64\n",
            "dtype: object\n",
            "index           0\n",
            "age             0\n",
            "educ            0\n",
            "sex             0\n",
            "race            0\n",
            "polviews        0\n",
            "polviews_num    0\n",
            "marijuana       0\n",
            "marijuana01     0\n",
            "dtype: int64\n",
            "<class 'pandas.core.frame.DataFrame'>\n",
            "RangeIndex: 955 entries, 0 to 954\n",
            "Data columns (total 9 columns):\n",
            " #   Column        Non-Null Count  Dtype \n",
            "---  ------        --------------  ----- \n",
            " 0   index         955 non-null    int64 \n",
            " 1   age           955 non-null    int64 \n",
            " 2   educ          955 non-null    int64 \n",
            " 3   sex           955 non-null    object\n",
            " 4   race          955 non-null    object\n",
            " 5   polviews      955 non-null    object\n",
            " 6   polviews_num  955 non-null    int64 \n",
            " 7   marijuana     955 non-null    object\n",
            " 8   marijuana01   955 non-null    int64 \n",
            "dtypes: int64(5), object(4)\n",
            "memory usage: 67.3+ KB\n",
            "None\n"
          ]
        }
      ],
      "source": [
        "df = pd.read_csv('gss.csv')\n",
        "print(df.tail())\n",
        "print(df.dtypes)\n",
        "print(df.isnull().sum())\n",
        "print(df.info())"
      ]
    },
    {
      "cell_type": "markdown",
      "metadata": {
        "id": "cYo4FKb-oTiW"
      },
      "source": [
        "### Question: What do you notice about the data types? Are there any missing values indicated by the info() command?\n",
        "\n",
        "### Step 3: Data Preprocessing and Cleaning\n",
        "Real-world data is messy. We need to clean it before we can use it for modeling. Our focus will be on the columns age, educ, and polviews."
      ]
    },
    {
      "cell_type": "code",
      "execution_count": 4,
      "metadata": {
        "id": "yblF-fQboYdX"
      },
      "outputs": [
        {
          "name": "stdout",
          "output_type": "stream",
          "text": [
            "   polviews_conservative  polviews_extremely liberal  polviews_liberal  \\\n",
            "0                  False                       False             False   \n",
            "1                  False                       False             False   \n",
            "2                   True                       False             False   \n",
            "3                  False                       False              True   \n",
            "4                  False                       False             False   \n",
            "\n",
            "   polviews_moderate  polviews_slightly conservative  \\\n",
            "0              False                           False   \n",
            "1               True                           False   \n",
            "2              False                           False   \n",
            "3              False                           False   \n",
            "4               True                           False   \n",
            "\n",
            "   polviews_slightly liberal  \n",
            "0                       True  \n",
            "1                      False  \n",
            "2                      False  \n",
            "3                      False  \n",
            "4                      False  \n"
          ]
        }
      ],
      "source": [
        "df_onehot = pd.get_dummies(df['polviews'], prefix='polviews')\n",
        "print(df_onehot.head())"
      ]
    },
    {
      "cell_type": "markdown",
      "metadata": {
        "id": "0M0zNTpOoa9O"
      },
      "source": [
        "### Step 4: Define Features (X) and Target (y)\n",
        "\n",
        "Separate your cleaned data into the feature matrix (X) and the target vector (y)."
      ]
    },
    {
      "cell_type": "code",
      "execution_count": 5,
      "metadata": {
        "id": "ihULUp1lohUg"
      },
      "outputs": [
        {
          "name": "stdout",
          "output_type": "stream",
          "text": [
            "   age  educ  polviews_conservative  polviews_extremely liberal  \\\n",
            "0   60    16                  False                       False   \n",
            "1   76    13                  False                       False   \n",
            "2   61    16                   True                       False   \n",
            "3   20    14                  False                       False   \n",
            "4   56    14                  False                       False   \n",
            "\n",
            "   polviews_liberal  polviews_moderate  polviews_slightly conservative  \\\n",
            "0             False              False                           False   \n",
            "1             False               True                           False   \n",
            "2             False              False                           False   \n",
            "3              True              False                           False   \n",
            "4             False               True                           False   \n",
            "\n",
            "   polviews_slightly liberal  \n",
            "0                       True  \n",
            "1                      False  \n",
            "2                      False  \n",
            "3                      False  \n",
            "4                      False   0    1\n",
            "1    1\n",
            "2    0\n",
            "3    1\n",
            "4    1\n",
            "Name: marijuana01, dtype: int64\n"
          ]
        }
      ],
      "source": [
        "X = pd.concat([df[['age', 'educ']], df_onehot], axis=1)\n",
        "y = df['marijuana01']\n",
        "\n",
        "print(X.head(),y.head())"
      ]
    },
    {
      "cell_type": "markdown",
      "metadata": {
        "id": "L9MJJGtToizu"
      },
      "source": [
        "### Step 5: Split Data and Scale Features\n",
        "\n",
        "Split the data into training and testing sets. Then, scale the features so they have a mean of 0 and a standard deviation of 1. This is crucial for k-NN!"
      ]
    },
    {
      "cell_type": "code",
      "execution_count": 7,
      "metadata": {
        "id": "OgLUNHQ7ol3b"
      },
      "outputs": [
        {
          "name": "stdout",
          "output_type": "stream",
          "text": [
            "Head of final X_test after scaling:\n",
            "          age      educ  polviews_conservative  polviews_extremely liberal  \\\n",
            "199  0.219240 -1.019966                  False                       False   \n",
            "422  1.485992  0.493883                   True                       False   \n",
            "695  0.334399 -0.263041                  False                       False   \n",
            "752 -1.853627 -1.019966                   True                       False   \n",
            "388 -0.932353 -1.019966                  False                       False   \n",
            "\n",
            "     polviews_liberal  polviews_moderate  polviews_slightly conservative  \\\n",
            "199              True              False                           False   \n",
            "422             False              False                           False   \n",
            "695             False               True                           False   \n",
            "752             False              False                           False   \n",
            "388             False               True                           False   \n",
            "\n",
            "     polviews_slightly liberal  \n",
            "199                      False  \n",
            "422                      False  \n",
            "695                      False  \n",
            "752                      False  \n",
            "388                      False  \n"
          ]
        }
      ],
      "source": [
        "X_train, X_test, y_train, y_test = train_test_split(X, y, test_size=0.2, random_state=42)\n",
        "\n",
        "scaler = StandardScaler()\n",
        "# Scale only 'age' and 'educ'\n",
        "X_train_scaled_numeric = scaler.fit_transform(X_train[['age', 'educ']])\n",
        "X_test_scaled_numeric = scaler.transform(X_test[['age', 'educ']])\n",
        "\n",
        "# Convert back to DataFrame with column names\n",
        "X_train_scaled_df = pd.DataFrame(X_train_scaled_numeric, columns=['age', 'educ'], index=X_train.index)\n",
        "X_test_scaled_df = pd.DataFrame(X_test_scaled_numeric, columns=['age', 'educ'], index=X_test.index)\n",
        "\n",
        "# Get the one-hot encoded columns (everything except age and educ)\n",
        "X_train_others = X_train.drop(columns=['age', 'educ'])\n",
        "X_test_others = X_test.drop(columns=['age', 'educ'])\n",
        "\n",
        "# Combine scaled numeric and one-hot columns\n",
        "X_train_final = pd.concat([X_train_scaled_df, X_train_others], axis=1)\n",
        "X_test_final = pd.concat([X_test_scaled_df, X_test_others], axis=1)\n",
        "\n",
        "# Now safe to print\n",
        "print(\"Head of final X_test after scaling:\")\n",
        "print(X_test_final.head())"
      ]
    },
    {
      "cell_type": "markdown",
      "metadata": {
        "id": "GVVcLZ6jonM6"
      },
      "source": [
        "### Step 6: Train the k-NN Model\n",
        "\n",
        "Now, it's time to train the k-NN classifier. Let's start with k=5."
      ]
    },
    {
      "cell_type": "code",
      "execution_count": 8,
      "metadata": {
        "id": "KwSCMu-poprb"
      },
      "outputs": [
        {
          "name": "stdout",
          "output_type": "stream",
          "text": [
            "Training 5-NN model...\n",
            "5-NN model trained.\n"
          ]
        }
      ],
      "source": [
        "# Initialize and train the k-NN model with k=5\n",
        "print(\"Training 5-NN model...\")\n",
        "knn5 = KNeighborsClassifier(n_neighbors=5, metric='euclidean')\n",
        "knn5.fit(X_train_final, y_train)\n",
        "print(\"5-NN model trained.\")"
      ]
    },
    {
      "cell_type": "markdown",
      "metadata": {
        "id": "pmE2CYdzovM4"
      },
      "source": [
        "### Step 7: Evaluate the Model\n",
        "Make predictions on the test data and evaluate the model's performance."
      ]
    },
    {
      "cell_type": "code",
      "execution_count": 9,
      "metadata": {
        "id": "4bP3-BnBoszX"
      },
      "outputs": [
        {
          "name": "stdout",
          "output_type": "stream",
          "text": [
            "\n",
            "Predictions generated for both models.\n",
            "[1 0 1 1 1 1 1 1 1 0 1 1 0 1 0 1 1 0 1 1 1 1 1 1 0 1 1 1 1 1 1 1 0 1 1 1 0\n",
            " 1 0 1 1 1 1 0 1 1 1 1 1 1 1 1 1 1 1 1 1 1 1 1 1 0 1 1 1 1 1 1 1 1 1 1 1 1\n",
            " 1 1 0 0 1 1 1 1 1 1 1 0 1 1 1 1 1 0 1 1 0 1 1 1 1 1 0 1 1 1 1 1 1 1 1 1 1\n",
            " 1 1 1 0 1 1 1 0 1 1 1 1 1 1 1 1 1 0 1 1 1 1 1 1 0 1 1 1 0 1 1 1 1 1 1 0 1\n",
            " 1 1 1 1 1 1 0 0 1 1 1 1 1 1 1 1 1 1 1 1 1 1 1 1 1 1 0 1 1 1 0 1 1 1 1 1 1\n",
            " 1 1 0 1 1 1]\n",
            "199    1\n",
            "422    0\n",
            "695    1\n",
            "752    1\n",
            "388    1\n",
            "      ..\n",
            "33     1\n",
            "31     0\n",
            "712    1\n",
            "321    1\n",
            "462    1\n",
            "Name: marijuana01, Length: 191, dtype: int64\n"
          ]
        }
      ],
      "source": [
        "y_pred5 = knn5.predict(X_test_final)\n",
        "print(\"\\nPredictions generated for both models.\")\n",
        "\n",
        "print(y_pred5)\n",
        "print(y_test)"
      ]
    },
    {
      "cell_type": "code",
      "execution_count": 10,
      "metadata": {},
      "outputs": [
        {
          "name": "stdout",
          "output_type": "stream",
          "text": [
            "\n",
            "--- Overall Model Accuracy ---\n",
            "Accuracy of 5-NN model: 0.8115\n",
            "------------------------------\n",
            "\n",
            "--- Classification Report for 5-NN (k=5) ---\n",
            "              precision    recall  f1-score   support\n",
            "\n",
            "           0       0.54      0.39      0.45        38\n",
            "           1       0.86      0.92      0.89       153\n",
            "\n",
            "    accuracy                           0.81       191\n",
            "   macro avg       0.70      0.65      0.67       191\n",
            "weighted avg       0.79      0.81      0.80       191\n",
            "\n"
          ]
        }
      ],
      "source": [
        "# Calculate and print the accuracy scores\n",
        "accuracy5 = accuracy_score(y_test, y_pred5)\n",
        "\n",
        "print(\"\\n--- Overall Model Accuracy ---\")\n",
        "print(f\"Accuracy of 5-NN model: {accuracy5:.4f}\")\n",
        "print(\"-\" * 30)\n",
        "\n",
        "# Generate and print the detailed classification report for the 5-NN model\n",
        "print(\"\\n--- Classification Report for 5-NN (k=5) ---\")\n",
        "print(classification_report(y_test, y_pred5))"
      ]
    },
    {
      "cell_type": "code",
      "execution_count": 11,
      "metadata": {},
      "outputs": [
        {
          "data": {
            "image/png": "[encoded data removed]",
            "text/plain": [
              "<Figure size 1000x800 with 2 Axes>"
            ]
          },
          "metadata": {},
          "output_type": "display_data"
        },
        {
          "name": "stdout",
          "output_type": "stream",
          "text": [
            "Displaying Confusion Matrix for 5-NN model...\n"
          ]
        }
      ],
      "source": [
        "# --- 6. Visualization ---\n",
        "\n",
        "# Get the class names for labeling the confusion matrix plots\n",
        "class_names = knn5.classes_\n",
        "\n",
        "# Generate the confusion matrix for the 5-NN model\n",
        "cm5 = confusion_matrix(y_test, y_pred5)\n",
        "\n",
        "# Create a heatmap for the 5-NN confusion matrix\n",
        "plt.figure(figsize=(10, 8))\n",
        "sns.heatmap(cm5, annot=True, fmt='d', cmap='Oranges',\n",
        "            xticklabels=class_names, yticklabels=class_names)\n",
        "plt.title('Confusion Matrix for 5-NN (k=5)', fontsize=16)\n",
        "plt.ylabel('Actual Class', fontsize=12)\n",
        "plt.xlabel('Predicted Class', fontsize=12)\n",
        "plt.show()\n",
        "print(\"Displaying Confusion Matrix for 5-NN model...\")"
      ]
    },
    {
      "cell_type": "markdown",
      "metadata": {
        "id": "tVUqNcTLo2AM"
      },
      "source": [
        "## 4. Interpretation and Questions\n",
        "\n",
        "#### 1.\tAnalyze the Accuracy: What is the accuracy of your model? Based on this number alone, would you say the model is performing well? Why might accuracy not be the only metric to consider?\n",
        "\n",
        "#### 2.\tAnalyze the Classification Report: Look at the precision and recall for each class (Democrat, Independent, Republican). Is the model better at predicting one party than others?\n",
        "\n",
        "#### 3.\tAnalyze the Confusion Matrix:\n",
        "#### o\tWhich class had the most correct predictions (look at the diagonal)?\n",
        "#### o\tWhich class was most often confused for another? (e.g., How many Republican voters were incorrectly classified as Independent?)\n"
      ]
    },
    {
      "cell_type": "markdown",
      "metadata": {},
      "source": [
        "1. Accuracy Analysis:\n",
        "The model’s accuracy is 81.15%, which means it correctly predicts about 8 out of 10 cases. While this is fairly good, accuracy alone doesn’t show class-specific performance. Since one class is much more frequent, metrics like precision and recall help reveal how well the model handles each class.\n",
        "\n",
        "2. Classification Report Analysis:\n",
        "The model is much better at predicting class 1 (support = 153), with high precision (0.86) and recall (0.92). The class are those who support legalization of marijuana. It performs poorly on class 0 (support = 38), with low precision (0.54) and recall (0.39). This means it often misclassifies class 0 examples.\n",
        "\n",
        "3. Confusion Matrix Analysis:\n",
        "Most correct predictions: Class 1 (those who support legalization of marijuana), with 140 correct predictions (bottom-right of the matrix).\n",
        "\n",
        "Most confusion: Class 0 (those who believe marijuana should NOT be legalized) was most often confused for class 1 — 23 times (top-right cell), meaning class 0 was predicted as class 1."
      ]
    },
    {
      "cell_type": "markdown",
      "metadata": {
        "id": "FGkQM3Puo8lB"
      },
      "source": [
        "## 5. Bonus Challenge\n",
        "\n",
        "The choice of k is important. A small k can lead to a noisy, unstable model, while a large k can be too biased.\n",
        "\n",
        "\n",
        "#### Challenge:\n",
        "Create a loop that trains and tests the k-NN model for different values of k (e.g., from 1 to 20). Plot the accuracy for each k. What value of k gives the best performance on the test set?"
      ]
    },
    {
      "cell_type": "code",
      "execution_count": 12,
      "metadata": {
        "id": "TcQo_18Vozle"
      },
      "outputs": [
        {
          "data": {
            "image/png": "[encoded data removed]",
            "text/plain": [
              "<Figure size 1000x600 with 1 Axes>"
            ]
          },
          "metadata": {},
          "output_type": "display_data"
        },
        {
          "name": "stdout",
          "output_type": "stream",
          "text": [
            "Best k: 7 with accuracy: 0.8429\n"
          ]
        }
      ],
      "source": [
        "\n",
        "import matplotlib.pyplot as plt\n",
        "from sklearn.neighbors import KNeighborsClassifier\n",
        "from sklearn.metrics import accuracy_score\n",
        "\n",
        "# Store test accuracies for each k\n",
        "k_values = range(1, 21)\n",
        "accuracies = []\n",
        "\n",
        "# Loop through k from 1 to 20\n",
        "for k in k_values:\n",
        "    knn = KNeighborsClassifier(n_neighbors=k)\n",
        "    knn.fit(X_train_final, y_train)\n",
        "    y_pred = knn.predict(X_test_final)\n",
        "    acc = accuracy_score(y_test, y_pred)\n",
        "    accuracies.append(acc)\n",
        "\n",
        "# Plotting\n",
        "plt.figure(figsize=(10, 6))\n",
        "plt.plot(k_values, accuracies, marker='o', linestyle='-', color='blue')\n",
        "plt.title(\"k-NN Accuracy for Different k Values\")\n",
        "plt.xlabel(\"k (Number of Neighbors)\")\n",
        "plt.ylabel(\"Test Accuracy\")\n",
        "plt.xticks(k_values)\n",
        "plt.grid(True)\n",
        "plt.show()\n",
        "\n",
        "# Print best k\n",
        "best_k = k_values[accuracies.index(max(accuracies))]\n",
        "print(f\"Best k: {best_k} with accuracy: {max(accuracies):.4f}\")\n"
      ]
    },
    {
      "cell_type": "code",
      "execution_count": null,
      "metadata": {},
      "outputs": [],
      "source": []
    }
  ],
  "metadata": {
    "colab": {
      "provenance": []
    },
    "kernelspec": {
      "display_name": "Python 3",
      "name": "python3"
    },
    "language_info": {
      "codemirror_mode": {
        "name": "ipython",
        "version": 3
      },
      "file_extension": ".py",
      "mimetype": "text/x-python",
      "name": "python",
      "nbconvert_exporter": "python",
      "pygments_lexer": "ipython3",
      "version": "3.12.1"
    }
  },
  "nbformat": 4,
  "nbformat_minor": 0
}
