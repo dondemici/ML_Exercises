{
 "cells": [
  {
   "cell_type": "code",
   "execution_count": null,
   "metadata": {
    "vscode": {
     "languageId": "plaintext"
    }
   },
   "outputs": [],
   "source": [
    "import matplotlib.pyplot as plt\n",
    "import seaborn as sns\n",
    "import pandas as pd\n",
    "\n",
    "# Your data\n",
    "data = {\n",
    "    'Department': [\n",
    "        'Cardiology', 'General Medicine', 'Neurology',\n",
    "        'Oncology', 'Orthopedics', 'Pediatric'\n",
    "    ],\n",
    "    'UsageHours': [106, 192, 146, 147, 136, 203]\n",
    "}\n",
    "\n",
    "df = pd.DataFrame(data)\n",
    "df.set_index('Department', inplace=True)\n",
    "\n",
    "# Create the heatmap\n",
    "plt.figure(figsize=(6, 4))\n",
    "sns.heatmap(df, annot=True, cmap='YlOrRd', cbar=True, linewidths=0.5)\n",
    "plt.title('Usage Hours by Department')\n",
    "plt.ylabel('Department')\n",
    "plt.xlabel('')\n",
    "\n",
    "plt.show()\n"
   ]
  }
 ],
 "metadata": {
  "language_info": {
   "name": "python"
  }
 },
 "nbformat": 4,
 "nbformat_minor": 5
}
