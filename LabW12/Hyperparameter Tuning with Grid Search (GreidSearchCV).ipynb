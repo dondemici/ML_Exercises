{
 "cells": [
  {
   "cell_type": "markdown",
   "id": "1df4703e",
   "metadata": {},
   "source": [
    "# Hyperparameter Tuning\n",
    "\n",
    "### Adaboost Example"
   ]
  },
  {
   "cell_type": "markdown",
   "id": "c4dd0fc8",
   "metadata": {},
   "source": [
    "### Import necessary modules"
   ]
  },
  {
   "cell_type": "code",
   "execution_count": 1,
   "id": "11a2a43b",
   "metadata": {},
   "outputs": [],
   "source": [
    "from sklearn.ensemble import AdaBoostClassifier\n",
    "from sklearn.model_selection import GridSearchCV\n",
    "from sklearn.metrics import accuracy_score\n"
   ]
  },
  {
   "cell_type": "markdown",
   "id": "08e48381",
   "metadata": {},
   "source": [
    "### Define parameter grid\n",
    "\n",
    "Choose the parameters you want to tune. For example:"
   ]
  },
  {
   "cell_type": "code",
   "execution_count": 3,
   "id": "ef934629",
   "metadata": {},
   "outputs": [],
   "source": [
    "param_grid = {\n",
    "    'n_estimators': [50, 100, 150],\n",
    "    'learning_rate': [0.01, 0.1, 1.0],\n",
    "    'base_estimator__max_depth': [1, 2, 3]  # if customizing base estimator\n",
    "}\n"
   ]
  },
  {
   "cell_type": "markdown",
   "id": "d6e9847d",
   "metadata": {},
   "source": [
    "Note: If you want to tune parameters of the base estimator (like max_depth of a decision stump), you need to specify the base estimator with a parameter name like 'base_estimator__max_depth'."
   ]
  },
  {
   "cell_type": "markdown",
   "id": "3f61fe06",
   "metadata": {},
   "source": [
    "### Create AdaBoost with base estimator (optional)"
   ]
  },
  {
   "cell_type": "code",
   "execution_count": 4,
   "id": "09446319",
   "metadata": {},
   "outputs": [],
   "source": [
    "from sklearn.tree import DecisionTreeClassifier\n",
    "\n",
    "base_estimator = DecisionTreeClassifier()\n",
    "ada = AdaBoostClassifier(base_estimator=base_estimator, random_state=42)\n"
   ]
  },
  {
   "cell_type": "markdown",
   "id": "f9593eef",
   "metadata": {},
   "source": [
    "### Run Grid Search"
   ]
  },
  {
   "cell_type": "code",
   "execution_count": null,
   "id": "dbbf9a23",
   "metadata": {},
   "outputs": [],
   "source": [
    "grid_search = GridSearchCV(ada, param_grid, cv=5, scoring='accuracy', n_jobs=-1)\n",
    "\n",
    "# cv =n, n-fold cross-validation\n",
    "# scoring = Use accuracy as the scoring metric\n",
    "# n_jobs = Use all available cores for faster computation\n",
    "\n",
    "grid_search.fit(X_train, y_train)\n",
    "\n",
    "# Best parameters and score\n",
    "print(\"Best parameters:\", grid_search.best_params_)\n",
    "print(\"Best cross-validation accuracy:\", grid_search.best_score_)\n"
   ]
  },
  {
   "cell_type": "markdown",
   "id": "c82c7634",
   "metadata": {},
   "source": [
    "### Evaluate on test set"
   ]
  },
  {
   "cell_type": "code",
   "execution_count": null,
   "id": "4c17253f",
   "metadata": {},
   "outputs": [],
   "source": [
    "best_model = grid_search.best_estimator_\n",
    "y_pred = best_model.predict(X_test)\n",
    "print(f\"Test set accuracy: {accuracy_score(y_test, y_pred):.2f}\")"
   ]
  },
  {
   "cell_type": "markdown",
   "id": "2654c23f",
   "metadata": {},
   "source": [
    "### Summary\n",
    "- Use GridSearchCV to automate the search over multiple parameter combinations.\n",
    "- Adjust parameter ranges to explore model behavior.\n",
    "- Check best_params_ and best_score_ for the optimal configuration.\n",
    "= Evaluate the best model on your test data for validation.\n"
   ]
  }
 ],
 "metadata": {
  "kernelspec": {
   "display_name": "Python 3 (ipykernel)",
   "language": "python",
   "name": "python3"
  },
  "language_info": {
   "codemirror_mode": {
    "name": "ipython",
    "version": 3
   },
   "file_extension": ".py",
   "mimetype": "text/x-python",
   "name": "python",
   "nbconvert_exporter": "python",
   "pygments_lexer": "ipython3",
   "version": "3.10.9"
  }
 },
 "nbformat": 4,
 "nbformat_minor": 5
}
