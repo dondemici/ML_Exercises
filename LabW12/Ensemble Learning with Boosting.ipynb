{
 "cells": [
  {
   "cell_type": "markdown",
   "id": "7790178b",
   "metadata": {},
   "source": [
    "# Ensemble Learning with Boosting — Exercise Lab (using breast cancer data)\n",
    "\n",
    "### Objective\n",
    "Implement and evaluate AdaBoost and Gradient Boosting algorithms on the breast cancer dataset, compare their performance to a baseline classifier, and explore hyperparameter effects.\n",
    "\n",
    "### Part 1: Setup"
   ]
  },
  {
   "cell_type": "code",
   "execution_count": 2,
   "id": "09242aca",
   "metadata": {},
   "outputs": [],
   "source": [
    "import pandas as pd\n",
    "import seaborn as sns\n",
    "import matplotlib.pyplot as plt"
   ]
  },
  {
   "cell_type": "markdown",
   "id": "3cb70a47",
   "metadata": {},
   "source": [
    "### Part 2: Load and Explore Data"
   ]
  },
  {
   "cell_type": "code",
   "execution_count": 4,
   "id": "92f2f910",
   "metadata": {},
   "outputs": [],
   "source": [
    "from sklearn.datasets import load_breast_cancer\n",
    "\n",
    "# Load dataset\n",
    "breast = load_breast_cancer()\n",
    "X = breast.data\n",
    "y = breast.target\n",
    "\n",
    "# Create DataFrame for visualization\n",
    "df = pd.DataFrame(X, columns=breast.feature_names)\n",
    "df['target'] = pd.Categorical.from_codes(y, breast.target_names)\n",
    "\n",
    "# Visualize pairplot (optional, high-dimensional, so focus on top features)\n",
    "# sns.pairplot(df[['mean radius', mean texture', 'mean smoothness', 'target']], hue='target')\n",
    "# plt.show()"
   ]
  },
  {
   "cell_type": "markdown",
   "id": "105a07d4",
   "metadata": {},
   "source": [
    "Note: The breast cancer dataset has many features; visualizations of full feature space are limited, but you can explore a subset as above."
   ]
  },
  {
   "cell_type": "markdown",
   "id": "fb7ead2f",
   "metadata": {},
   "source": [
    "### Part 3: Split Data"
   ]
  },
  {
   "cell_type": "code",
   "execution_count": 5,
   "id": "032429d1",
   "metadata": {},
   "outputs": [
    {
     "name": "stdout",
     "output_type": "stream",
     "text": [
      "Training samples: 455\n",
      "Testing samples: 114\n"
     ]
    }
   ],
   "source": [
    "from sklearn.model_selection import train_test_split\n",
    "\n",
    "# Split dataset\n",
    "X_train, X_test, y_train, y_test = train_test_split(X, y, test_size=0.2, random_state=42)\n",
    "\n",
    "print(f\"Training samples: {X_train.shape[0]}\")\n",
    "print(f\"Testing samples: {X_test.shape[0]}\")\n"
   ]
  },
  {
   "cell_type": "markdown",
   "id": "82d1eb4d",
   "metadata": {},
   "source": [
    "### Part 4: Baseline Classifier (Decision Tree)"
   ]
  },
  {
   "cell_type": "code",
   "execution_count": 7,
   "id": "f81b06a9",
   "metadata": {},
   "outputs": [
    {
     "name": "stdout",
     "output_type": "stream",
     "text": [
      "Decision Tree Accuracy: 0.95\n"
     ]
    }
   ],
   "source": [
    "from sklearn.tree import DecisionTreeClassifier\n",
    "from sklearn.metrics import accuracy_score\n",
    "\n",
    "dt = DecisionTreeClassifier(random_state=42)\n",
    "dt.fit(X_train, y_train)\n",
    "\n",
    "y_pred_dt = dt.predict(X_test)\n",
    "print(f\"Decision Tree Accuracy: {accuracy_score(y_test, y_pred_dt):.2f}\")\n"
   ]
  },
  {
   "cell_type": "markdown",
   "id": "08c1f31f",
   "metadata": {},
   "source": [
    "### Part 5: Implement Boosting Algorithms\n",
    "##### 1. AdaBoost"
   ]
  },
  {
   "cell_type": "code",
   "execution_count": 8,
   "id": "4a715d37",
   "metadata": {},
   "outputs": [
    {
     "name": "stdout",
     "output_type": "stream",
     "text": [
      "AdaBoost Accuracy: 0.97\n"
     ]
    }
   ],
   "source": [
    "from sklearn.ensemble import AdaBoostClassifier\n",
    "\n",
    "ada = AdaBoostClassifier(n_estimators=50, random_state=42)\n",
    "ada.fit(X_train, y_train)\n",
    "\n",
    "y_pred_ada = ada.predict(X_test)\n",
    "print(f\"AdaBoost Accuracy: {accuracy_score(y_test, y_pred_ada):.2f}\")\n"
   ]
  },
  {
   "cell_type": "markdown",
   "id": "2c1469d1",
   "metadata": {},
   "source": [
    "##### 2. Gradient Boosting"
   ]
  },
  {
   "cell_type": "code",
   "execution_count": 9,
   "id": "2c855fc8",
   "metadata": {},
   "outputs": [
    {
     "name": "stdout",
     "output_type": "stream",
     "text": [
      "Gradient Boosting Accuracy: 0.96\n"
     ]
    }
   ],
   "source": [
    "from sklearn.ensemble import GradientBoostingClassifier\n",
    "\n",
    "gb = GradientBoostingClassifier(n_estimators=100, random_state=42)\n",
    "gb.fit(X_train, y_train)\n",
    "\n",
    "y_pred_gb = gb.predict(X_test)\n",
    "print(f\"Gradient Boosting Accuracy: {accuracy_score(y_test, y_pred_gb):.2f}\")\n"
   ]
  },
  {
   "cell_type": "markdown",
   "id": "4659d36e",
   "metadata": {},
   "source": [
    "### Part 6: Compare Results Visually"
   ]
  },
  {
   "cell_type": "code",
   "execution_count": 10,
   "id": "c84daf58",
   "metadata": {},
   "outputs": [
    {
     "data": {
      "image/png": "[encoded data removed]",
      "text/plain": [
       "<Figure size 640x480 with 1 Axes>"
      ]
     },
     "metadata": {},
     "output_type": "display_data"
    }
   ],
   "source": [
    "import matplotlib.pyplot as plt\n",
    "\n",
    "models = ['Decision Tree', 'AdaBoost', 'Gradient Boosting']\n",
    "scores = [\n",
    "    accuracy_score(y_test, y_pred_dt),\n",
    "    accuracy_score(y_test, y_pred_ada),\n",
    "    accuracy_score(y_test, y_pred_gb)\n",
    "]\n",
    "\n",
    "plt.bar(models, scores, color=['blue', 'orange', 'green'])\n",
    "plt.ylabel('Accuracy')\n",
    "plt.ylim(0, 1)\n",
    "plt.title('Model Performance Comparison')\n",
    "plt.show()\n"
   ]
  },
  {
   "cell_type": "markdown",
   "id": "64a067ea",
   "metadata": {},
   "source": [
    "### Part 7: Challenge Questions\n",
    "\n",
    "1- Vary n_estimators in AdaBoost and Gradient Boosting. How does accuracy change?\n",
    "2- Implement and evaluate a Random Forest classifier and include it in the comparison.\n",
    "3- Plot feature importances from Gradient Boosting; which features are most influential?\n"
   ]
  },
  {
   "cell_type": "markdown",
   "id": "d7b2dfb9",
   "metadata": {},
   "source": [
    "### Summary\n",
    "\n",
    "This exercise helps you understand boosting algorithms' strengths, how to implement them with scikit-learn, and how to interpret their results on a dataset with real-world relevance."
   ]
  }
 ],
 "metadata": {
  "kernelspec": {
   "display_name": "Python 3 (ipykernel)",
   "language": "python",
   "name": "python3"
  },
  "language_info": {
   "codemirror_mode": {
    "name": "ipython",
    "version": 3
   },
   "file_extension": ".py",
   "mimetype": "text/x-python",
   "name": "python",
   "nbconvert_exporter": "python",
   "pygments_lexer": "ipython3",
   "version": "3.10.9"
  }
 },
 "nbformat": 4,
 "nbformat_minor": 5
}
