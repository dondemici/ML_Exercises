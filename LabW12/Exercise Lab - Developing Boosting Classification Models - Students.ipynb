{
 "cells": [
  {
   "cell_type": "markdown",
   "id": "f0b0c6cf",
   "metadata": {},
   "source": [
    "# Exercise Lab: Developing Boosting Regression Models with scikit-learn (Using the digits Dataset)\n"
   ]
  },
  {
   "cell_type": "markdown",
   "id": "9e4695e6",
   "metadata": {},
   "source": [
    "### Objective\n",
    "\n",
    "- Load and explore the Digits dataset.\n",
    "- Implement regression boosting methods (AdaBoostRegressor and GradientBoostingRegressor).\n",
    "- Tune hyperparameters.\n",
    "- Compare performance against baseline models.\n",
    "- Check the results.\n"
   ]
  },
  {
   "cell_type": "markdown",
   "id": "48097aa2",
   "metadata": {},
   "source": [
    "### Step 1: Setup\n",
    "\n",
    "Install required packages (if needed):"
   ]
  },
  {
   "cell_type": "code",
   "execution_count": 1,
   "id": "9a37cf7d",
   "metadata": {},
   "outputs": [],
   "source": [
    "import numpy as np\n",
    "import pandas as pd\n",
    "from sklearn.datasets import load_digits\n",
    "\n",
    "import warnings\n",
    "warnings.filterwarnings(\"ignore\")  # Suppress all warnings"
   ]
  },
  {
   "cell_type": "markdown",
   "id": "a03242fc",
   "metadata": {},
   "source": [
    "### Step 2: Load and Explore the Dataset"
   ]
  },
  {
   "cell_type": "code",
   "execution_count": 5,
   "id": "7645172a",
   "metadata": {},
   "outputs": [
    {
     "name": "stdout",
     "output_type": "stream",
     "text": [
      "['pixel_0_0', 'pixel_0_1', 'pixel_0_2', 'pixel_0_3', 'pixel_0_4', 'pixel_0_5', 'pixel_0_6', 'pixel_0_7', 'pixel_1_0', 'pixel_1_1', 'pixel_1_2', 'pixel_1_3', 'pixel_1_4', 'pixel_1_5', 'pixel_1_6', 'pixel_1_7', 'pixel_2_0', 'pixel_2_1', 'pixel_2_2', 'pixel_2_3', 'pixel_2_4', 'pixel_2_5', 'pixel_2_6', 'pixel_2_7', 'pixel_3_0', 'pixel_3_1', 'pixel_3_2', 'pixel_3_3', 'pixel_3_4', 'pixel_3_5', 'pixel_3_6', 'pixel_3_7', 'pixel_4_0', 'pixel_4_1', 'pixel_4_2', 'pixel_4_3', 'pixel_4_4', 'pixel_4_5', 'pixel_4_6', 'pixel_4_7', 'pixel_5_0', 'pixel_5_1', 'pixel_5_2', 'pixel_5_3', 'pixel_5_4', 'pixel_5_5', 'pixel_5_6', 'pixel_5_7', 'pixel_6_0', 'pixel_6_1', 'pixel_6_2', 'pixel_6_3', 'pixel_6_4', 'pixel_6_5', 'pixel_6_6', 'pixel_6_7', 'pixel_7_0', 'pixel_7_1', 'pixel_7_2', 'pixel_7_3', 'pixel_7_4', 'pixel_7_5', 'pixel_7_6', 'pixel_7_7']\n",
      "    pixel_0_0  pixel_0_1  pixel_0_2  pixel_0_3  pixel_0_4  pixel_0_5  \\\n",
      "0         0.0        0.0        5.0       13.0        9.0        1.0   \n",
      "1         0.0        0.0        0.0       12.0       13.0        5.0   \n",
      "2         0.0        0.0        0.0        4.0       15.0       12.0   \n",
      "3         0.0        0.0        7.0       15.0       13.0        1.0   \n",
      "4         0.0        0.0        0.0        1.0       11.0        0.0   \n",
      "5         0.0        0.0       12.0       10.0        0.0        0.0   \n",
      "6         0.0        0.0        0.0       12.0       13.0        0.0   \n",
      "7         0.0        0.0        7.0        8.0       13.0       16.0   \n",
      "8         0.0        0.0        9.0       14.0        8.0        1.0   \n",
      "9         0.0        0.0       11.0       12.0        0.0        0.0   \n",
      "10        0.0        0.0        1.0        9.0       15.0       11.0   \n",
      "11        0.0        0.0        0.0        0.0       14.0       13.0   \n",
      "12        0.0        0.0        5.0       12.0        1.0        0.0   \n",
      "13        0.0        2.0        9.0       15.0       14.0        9.0   \n",
      "14        0.0        0.0        0.0        8.0       15.0        1.0   \n",
      "15        0.0        5.0       12.0       13.0       16.0       16.0   \n",
      "16        0.0        0.0        0.0        8.0       15.0        1.0   \n",
      "17        0.0        0.0        1.0        8.0       15.0       10.0   \n",
      "18        0.0        0.0       10.0        7.0       13.0        9.0   \n",
      "19        0.0        0.0        6.0       14.0        4.0        0.0   \n",
      "\n",
      "    pixel_0_6  pixel_0_7  pixel_1_0  pixel_1_1  ...  pixel_6_6  pixel_6_7  \\\n",
      "0         0.0        0.0        0.0        0.0  ...        0.0        0.0   \n",
      "1         0.0        0.0        0.0        0.0  ...        0.0        0.0   \n",
      "2         0.0        0.0        0.0        0.0  ...        5.0        0.0   \n",
      "3         0.0        0.0        0.0        8.0  ...        9.0        0.0   \n",
      "4         0.0        0.0        0.0        0.0  ...        0.0        0.0   \n",
      "5         0.0        0.0        0.0        0.0  ...        4.0        0.0   \n",
      "6         0.0        0.0        0.0        0.0  ...        8.0        0.0   \n",
      "7        15.0        1.0        0.0        0.0  ...        0.0        0.0   \n",
      "8         0.0        0.0        0.0        0.0  ...        8.0        0.0   \n",
      "9         0.0        0.0        0.0        2.0  ...        4.0        0.0   \n",
      "10        0.0        0.0        0.0        0.0  ...        0.0        0.0   \n",
      "11        1.0        0.0        0.0        0.0  ...        0.0        0.0   \n",
      "12        0.0        0.0        0.0        0.0  ...        8.0        2.0   \n",
      "13        3.0        0.0        0.0        4.0  ...        6.0        0.0   \n",
      "14        0.0        0.0        0.0        0.0  ...        0.0        0.0   \n",
      "15        2.0        0.0        0.0       11.0  ...        0.0        0.0   \n",
      "16        0.0        0.0        0.0        0.0  ...       16.0        2.0   \n",
      "17        0.0        0.0        0.0        3.0  ...        0.0        0.0   \n",
      "18        0.0        0.0        0.0        0.0  ...        0.0        0.0   \n",
      "19        0.0        0.0        0.0        0.0  ...       16.0        2.0   \n",
      "\n",
      "    pixel_7_0  pixel_7_1  pixel_7_2  pixel_7_3  pixel_7_4  pixel_7_5  \\\n",
      "0         0.0        0.0        6.0       13.0       10.0        0.0   \n",
      "1         0.0        0.0        0.0       11.0       16.0       10.0   \n",
      "2         0.0        0.0        0.0        3.0       11.0       16.0   \n",
      "3         0.0        0.0        7.0       13.0       13.0        9.0   \n",
      "4         0.0        0.0        0.0        2.0       16.0        4.0   \n",
      "5         0.0        0.0        9.0       16.0       16.0       10.0   \n",
      "6         0.0        0.0        1.0        9.0       15.0       11.0   \n",
      "7         0.0        0.0       13.0        5.0        0.0        0.0   \n",
      "8         0.0        0.0       11.0       16.0       15.0       11.0   \n",
      "9         0.0        0.0        9.0       12.0       13.0        3.0   \n",
      "10        0.0        0.0        1.0       10.0       13.0        3.0   \n",
      "11        0.0        0.0        0.0        1.0       13.0       16.0   \n",
      "12        0.0        0.0        3.0       11.0        8.0       13.0   \n",
      "13        0.0        2.0       12.0       12.0       13.0       11.0   \n",
      "14        0.0        0.0        0.0       10.0       15.0        4.0   \n",
      "15        0.0        4.0       15.0       16.0        2.0        0.0   \n",
      "16        0.0        0.0        0.0        7.0       15.0       16.0   \n",
      "17        0.0        0.0        0.0       11.0        9.0        0.0   \n",
      "18        0.0        0.0       11.0       14.0        5.0        0.0   \n",
      "19        0.0        0.0        7.0       16.0       16.0       13.0   \n",
      "\n",
      "    pixel_7_6  pixel_7_7  \n",
      "0         0.0        0.0  \n",
      "1         0.0        0.0  \n",
      "2         9.0        0.0  \n",
      "3         0.0        0.0  \n",
      "4         0.0        0.0  \n",
      "5         0.0        0.0  \n",
      "6         3.0        0.0  \n",
      "7         0.0        0.0  \n",
      "8         1.0        0.0  \n",
      "9         0.0        0.0  \n",
      "10        0.0        0.0  \n",
      "11        1.0        0.0  \n",
      "12       12.0        4.0  \n",
      "13        0.0        0.0  \n",
      "14        0.0        0.0  \n",
      "15        0.0        0.0  \n",
      "16       11.0        0.0  \n",
      "17        0.0        0.0  \n",
      "18        0.0        0.0  \n",
      "19       11.0        1.0  \n",
      "\n",
      "[20 rows x 64 columns]\n",
      "0     0\n",
      "1     1\n",
      "2     2\n",
      "3     3\n",
      "4     4\n",
      "5     5\n",
      "6     6\n",
      "7     7\n",
      "8     8\n",
      "9     9\n",
      "10    0\n",
      "11    1\n",
      "12    2\n",
      "13    3\n",
      "14    4\n",
      "15    5\n",
      "16    6\n",
      "17    7\n",
      "18    8\n",
      "19    9\n",
      "Name: target, dtype: int64\n"
     ]
    }
   ],
   "source": [
    "# Load the dataset\n",
    "\n",
    "# the Digits dataset consists of 8x8 images of many numerical (0, 1, ..., 9) digits.\n",
    "# each corresponding entry represents the shade value of the pixel.\n",
    "# The goal is to train a model that read the digits from the image\n",
    "\n",
    "digits = load_digits()\n",
    "X = digits.data\n",
    "y = digits.target\n",
    "feature_names = digits.feature_names\n",
    "\n",
    "print(feature_names)\n",
    "# Convert to DataFrame for visualization\n",
    "X_df = pd.DataFrame(X, columns=feature_names)\n",
    "y_df = pd.Series(y, name=\"target\")\n",
    "\n",
    "print(X_df.head(20))\n",
    "print(y_df.head(20))"
   ]
  },
  {
   "cell_type": "markdown",
   "id": "74a09410",
   "metadata": {},
   "source": [
    "Discussion: The data includes physical measurements predicting some exercise responses."
   ]
  },
  {
   "cell_type": "markdown",
   "id": "95c96703",
   "metadata": {},
   "source": [
    "### Part 3: Visualize the Data (Optional)"
   ]
  },
  {
   "cell_type": "code",
   "execution_count": 6,
   "id": "f5fef141",
   "metadata": {},
   "outputs": [
    {
     "data": {
      "image/png": "[encoded data removed]",
      "text/plain": [
       "<Figure size 1000x400 with 10 Axes>"
      ]
     },
     "metadata": {},
     "output_type": "display_data"
    }
   ],
   "source": [
    "import matplotlib.pyplot as plt\n",
    "\n",
    "# Visualize some example images from the dataset\n",
    "plt.figure(figsize=(10, 4))\n",
    "for index, (image, label) in enumerate(zip(digits.data[:10], digits.target[:10])):\n",
    "    plt.subplot(1, 10, index + 1)\n",
    "    plt.imshow(image.reshape((8, 8)), cmap=plt.cm.gray, interpolation='nearest')\n",
    "    plt.title(f'Target: {label}')\n",
    "plt.show()"
   ]
  },
  {
   "cell_type": "markdown",
   "id": "1abdea61",
   "metadata": {},
   "source": [
    "### Part 4: Prepare Data and Baseline Model"
   ]
  },
  {
   "cell_type": "code",
   "execution_count": 11,
   "id": "51aa7825",
   "metadata": {},
   "outputs": [
    {
     "name": "stdout",
     "output_type": "stream",
     "text": [
      "Baseline (Logistic Regression) Accuracy: 0.97\n"
     ]
    }
   ],
   "source": [
    "from sklearn.model_selection import train_test_split\n",
    "from sklearn.metrics import accuracy_score\n",
    "from sklearn.linear_model import LogisticRegression\n",
    "\n",
    "# Split data into train and test sets\n",
    "X_train, X_test, y_train, y_test = train_test_split(\n",
    "    X, y, test_size=0.3, random_state=42\n",
    ")\n",
    "\n",
    "# Baseline classifier: Logistic Regression\n",
    "lr = LogisticRegression(max_iter=1000, random_state=42)\n",
    "lr.fit(X_train, y_train)\n",
    "y_pred_lr = lr.predict(X_test)\n",
    "\n",
    "lr_accuracy = accuracy_score(y_test, y_pred_lr)\n",
    "\n",
    "print(f\"Baseline (Logistic Regression) Accuracy: {lr_accuracy:.2f}\")\n",
    "\n"
   ]
  },
  {
   "cell_type": "markdown",
   "id": "91a8845a",
   "metadata": {},
   "source": [
    "### Part 5: Implement Boosting Classification Models\n",
    "\n",
    "##### 5.1: AdaBoostClassifier"
   ]
  },
  {
   "cell_type": "code",
   "execution_count": 42,
   "id": "8f9ea50b",
   "metadata": {},
   "outputs": [
    {
     "name": "stdout",
     "output_type": "stream",
     "text": [
      "AdaBoost Accuracy: 0.97\n"
     ]
    }
   ],
   "source": [
    "from sklearn.ensemble import AdaBoostClassifier\n",
    "from sklearn.tree import DecisionTreeClassifier\n",
    "\n",
    "# Create base estimator\n",
    "base_estimator = DecisionTreeClassifier(max_depth=4, random_state=42)\n",
    "\n",
    "# AdaBoost with multiple estimators\n",
    "ada = AdaBoostClassifier(estimator=base_estimator, n_estimators=55, learning_rate=.1, random_state=42)\n",
    "\n",
    "\n",
    "# Fit model\n",
    "ada.fit(X_train, y_train)\n",
    "y_pred_ada = ada.predict(X_test)\n",
    "\n",
    "# Evaluate, Print Accuracy\n",
    "print(f\"AdaBoost Accuracy: {accuracy_score(y_test, y_pred_ada):.2f}\")\n",
    "\n"
   ]
  },
  {
   "cell_type": "markdown",
   "id": "85ba68a8",
   "metadata": {},
   "source": [
    "##### 5.2: GradientBoostingClassifier"
   ]
  },
  {
   "cell_type": "code",
   "execution_count": 50,
   "id": "d32d5d4f",
   "metadata": {},
   "outputs": [
    {
     "name": "stdout",
     "output_type": "stream",
     "text": [
      "Gradient Boost Accuracy: 0.97\n"
     ]
    }
   ],
   "source": [
    "from sklearn.ensemble import GradientBoostingClassifier\n",
    "\n",
    "# GradientBoostingClassifier with multiple estimators\n",
    "gb = GradientBoostingClassifier(n_estimators=85, random_state=42)\n",
    "\n",
    "\n",
    "# Fit model\n",
    "gb.fit(X_train,y_train)\n",
    "y_predgb = gb.predict(X_test)\n",
    "\n",
    "# Evaluate, Print Accuracy\n",
    "print(f\"Gradient Boost Accuracy: {accuracy_score(y_test, y_predgb):.2f}\")"
   ]
  },
  {
   "cell_type": "markdown",
   "id": "f4a82ab3",
   "metadata": {},
   "source": [
    "### Part 6: Hyperparameter Tuning (Optional)\n",
    "\n",
    "GridSearchCV can be used to find optimal hyperparameters. An outline is provided here:"
   ]
  },
  {
   "cell_type": "markdown",
   "id": "2e06cfe4",
   "metadata": {},
   "source": [
    "Define Parameter Grid: Specify the range of hyperparameters you want to test."
   ]
  },
  {
   "cell_type": "code",
   "execution_count": 60,
   "id": "c8aa0d19",
   "metadata": {},
   "outputs": [],
   "source": [
    "from sklearn.model_selection import GridSearchCV\n",
    "\n",
    "# Define parameter grid\n",
    "param_grid = {\n",
    "    'n_estimators': [50, 100, 150, 200],\n",
    "    'learning_rate': [0.01, 0.1, 1.0],\n",
    "    'max_depth': [1, 2, 3, 4]  # if customizing base estimator\n",
    "}\n",
    "\n",
    "\n"
   ]
  },
  {
   "cell_type": "markdown",
   "id": "0d23be53",
   "metadata": {},
   "source": [
    "Initialize and Configure GridSearchCV: Set up the grid search with cross-validation."
   ]
  },
  {
   "cell_type": "code",
   "execution_count": 61,
   "id": "9fb881e0",
   "metadata": {},
   "outputs": [],
   "source": [
    "# Instantiate the GradientBoostingClassifier\n",
    "gb = GradientBoostingClassifier(n_estimators=85, random_state=42)\n",
    "\n",
    "\n",
    "# Set up GridSearchCV\n",
    "grid_search = GridSearchCV(gb, param_grid, cv=5, scoring='accuracy', n_jobs=-1)\n",
    "\n",
    "\n"
   ]
  },
  {
   "cell_type": "markdown",
   "id": "4fdc907f",
   "metadata": {},
   "source": [
    "Fit the Grid Search: Train models across the grid and find the best parameters."
   ]
  },
  {
   "cell_type": "code",
   "execution_count": 62,
   "id": "bd8f715b",
   "metadata": {},
   "outputs": [
    {
     "name": "stdout",
     "output_type": "stream",
     "text": [
      "Best parameters: {'learning_rate': 0.1, 'max_depth': 2, 'n_estimators': 200}\n",
      "Best cross-validation accuracy: 0.96\n"
     ]
    }
   ],
   "source": [
    "# Fit the grid search on the training data\n",
    "grid_search.fit(X_train, y_train)\n",
    "\n",
    "\n",
    "# Output the best parameters and highest cross-validation accuracy score\n",
    "print(\"Best parameters:\", grid_search.best_params_)\n",
    "print(f\"Best cross-validation accuracy: {grid_search.best_score_:.2f}\")\n",
    "#print(\"Best cross-validation accuracy:\", grid_search.best_score_)\n",
    "\n"
   ]
  },
  {
   "cell_type": "markdown",
   "id": "4a49f5a5",
   "metadata": {},
   "source": [
    "Evaluate Best Estimator: Use the best parameters found to predict and evaluate on the test set."
   ]
  },
  {
   "cell_type": "code",
   "execution_count": 63,
   "id": "f5cc60da",
   "metadata": {},
   "outputs": [
    {
     "name": "stdout",
     "output_type": "stream",
     "text": [
      "Test set accuracy: 0.97\n"
     ]
    }
   ],
   "source": [
    "# Retrieve the best model\n",
    "best_model = grid_search.best_estimator_\n",
    "\n",
    "\n",
    "# Predict on the test set\n",
    "y_pred = best_model.predict(X_test)\n",
    "\n",
    "\n",
    "# Calculate and print the test set accuracy\n",
    "print(f\"Test set accuracy: {accuracy_score(y_test, y_pred):.2f}\")\n",
    "\n"
   ]
  },
  {
   "cell_type": "markdown",
   "id": "4e987d3c",
   "metadata": {},
   "source": [
    "### Summary\n",
    "\n",
    "Parameter Grid: Defines which hyperparameters to search over and their ranges, like n_estimators, learning_rate, and max_depth.\n",
    "\n",
    "GridSearchCV: Performs an exhaustive search over the given parameter grid with cross-validation, identifying optimal parameters.\n",
    "\n",
    "Evaluation: Leverages the optimal hyperparameters to predict test data accuracy, ensuring robust model evaluation.\n",
    "\n",
    "This approach helps automate the hyperparameter optimization process, providing potentially improved performance over manually setting hyperparameters. "
   ]
  }
 ],
 "metadata": {
  "kernelspec": {
   "display_name": "Python 3",
   "language": "python",
   "name": "python3"
  },
  "language_info": {
   "codemirror_mode": {
    "name": "ipython",
    "version": 3
   },
   "file_extension": ".py",
   "mimetype": "text/x-python",
   "name": "python",
   "nbconvert_exporter": "python",
   "pygments_lexer": "ipython3",
   "version": "3.12.1"
  }
 },
 "nbformat": 4,
 "nbformat_minor": 5
}
