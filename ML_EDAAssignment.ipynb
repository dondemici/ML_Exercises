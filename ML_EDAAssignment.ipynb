import pandas as pandas

df1 = pd.read_csv('film_catalog.csv')

print (df1.head)
